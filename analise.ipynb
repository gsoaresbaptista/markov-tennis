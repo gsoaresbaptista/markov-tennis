{
 "cells": [
  {
   "cell_type": "code",
   "execution_count": 97,
   "metadata": {},
   "outputs": [],
   "source": [
    "import pandas as pd\n",
    "import seaborn as sns\n",
    "import matplotlib.pyplot as plt\n",
    "import numpy as np\n",
    "from tqdm.autonotebook import tqdm\n",
    "from src.tennis import TenisSimulation"
   ]
  },
  {
   "cell_type": "code",
   "execution_count": 2,
   "metadata": {},
   "outputs": [
    {
     "name": "stderr",
     "output_type": "stream",
     "text": [
      "100%|██████████| 1000/1000 [00:00<00:00, 3083.37it/s]\n"
     ]
    }
   ],
   "source": [
    "#\n",
    "n_sample = 1000\n",
    "probability = 0.7\n",
    "\n",
    "tennis_df = TenisSimulation.generate_dataset(probability, n_sample)\n",
    "tennis_df.to_parquet(f'{n_sample}_probability_{probability}.parquet.gzip')"
   ]
  },
  {
   "cell_type": "code",
   "execution_count": 3,
   "metadata": {},
   "outputs": [
    {
     "data": {
      "text/html": [
       "<div>\n",
       "<style scoped>\n",
       "    .dataframe tbody tr th:only-of-type {\n",
       "        vertical-align: middle;\n",
       "    }\n",
       "\n",
       "    .dataframe tbody tr th {\n",
       "        vertical-align: top;\n",
       "    }\n",
       "\n",
       "    .dataframe thead th {\n",
       "        text-align: right;\n",
       "    }\n",
       "</style>\n",
       "<table border=\"1\" class=\"dataframe\">\n",
       "  <thead>\n",
       "    <tr style=\"text-align: right;\">\n",
       "      <th></th>\n",
       "      <th>A scored</th>\n",
       "      <th>B scored</th>\n",
       "      <th>sets A-Wins</th>\n",
       "      <th>sets B-Wins</th>\n",
       "      <th>games A-Wins</th>\n",
       "      <th>games B-Wins</th>\n",
       "      <th>deuce</th>\n",
       "      <th>Winner</th>\n",
       "    </tr>\n",
       "  </thead>\n",
       "  <tbody>\n",
       "    <tr>\n",
       "      <th>0</th>\n",
       "      <td>76</td>\n",
       "      <td>26</td>\n",
       "      <td>3</td>\n",
       "      <td>0</td>\n",
       "      <td>18</td>\n",
       "      <td>1</td>\n",
       "      <td>4</td>\n",
       "      <td>A</td>\n",
       "    </tr>\n",
       "    <tr>\n",
       "      <th>1</th>\n",
       "      <td>77</td>\n",
       "      <td>26</td>\n",
       "      <td>3</td>\n",
       "      <td>0</td>\n",
       "      <td>18</td>\n",
       "      <td>0</td>\n",
       "      <td>5</td>\n",
       "      <td>A</td>\n",
       "    </tr>\n",
       "    <tr>\n",
       "      <th>2</th>\n",
       "      <td>81</td>\n",
       "      <td>33</td>\n",
       "      <td>3</td>\n",
       "      <td>0</td>\n",
       "      <td>18</td>\n",
       "      <td>4</td>\n",
       "      <td>3</td>\n",
       "      <td>A</td>\n",
       "    </tr>\n",
       "    <tr>\n",
       "      <th>3</th>\n",
       "      <td>81</td>\n",
       "      <td>30</td>\n",
       "      <td>3</td>\n",
       "      <td>0</td>\n",
       "      <td>18</td>\n",
       "      <td>2</td>\n",
       "      <td>5</td>\n",
       "      <td>A</td>\n",
       "    </tr>\n",
       "    <tr>\n",
       "      <th>4</th>\n",
       "      <td>79</td>\n",
       "      <td>24</td>\n",
       "      <td>3</td>\n",
       "      <td>0</td>\n",
       "      <td>18</td>\n",
       "      <td>2</td>\n",
       "      <td>3</td>\n",
       "      <td>A</td>\n",
       "    </tr>\n",
       "    <tr>\n",
       "      <th>...</th>\n",
       "      <td>...</td>\n",
       "      <td>...</td>\n",
       "      <td>...</td>\n",
       "      <td>...</td>\n",
       "      <td>...</td>\n",
       "      <td>...</td>\n",
       "      <td>...</td>\n",
       "      <td>...</td>\n",
       "    </tr>\n",
       "    <tr>\n",
       "      <th>995</th>\n",
       "      <td>90</td>\n",
       "      <td>46</td>\n",
       "      <td>3</td>\n",
       "      <td>0</td>\n",
       "      <td>18</td>\n",
       "      <td>3</td>\n",
       "      <td>13</td>\n",
       "      <td>A</td>\n",
       "    </tr>\n",
       "    <tr>\n",
       "      <th>996</th>\n",
       "      <td>81</td>\n",
       "      <td>35</td>\n",
       "      <td>3</td>\n",
       "      <td>0</td>\n",
       "      <td>18</td>\n",
       "      <td>0</td>\n",
       "      <td>9</td>\n",
       "      <td>A</td>\n",
       "    </tr>\n",
       "    <tr>\n",
       "      <th>997</th>\n",
       "      <td>77</td>\n",
       "      <td>27</td>\n",
       "      <td>3</td>\n",
       "      <td>0</td>\n",
       "      <td>18</td>\n",
       "      <td>1</td>\n",
       "      <td>3</td>\n",
       "      <td>A</td>\n",
       "    </tr>\n",
       "    <tr>\n",
       "      <th>998</th>\n",
       "      <td>78</td>\n",
       "      <td>30</td>\n",
       "      <td>3</td>\n",
       "      <td>0</td>\n",
       "      <td>18</td>\n",
       "      <td>1</td>\n",
       "      <td>4</td>\n",
       "      <td>A</td>\n",
       "    </tr>\n",
       "    <tr>\n",
       "      <th>999</th>\n",
       "      <td>83</td>\n",
       "      <td>40</td>\n",
       "      <td>3</td>\n",
       "      <td>0</td>\n",
       "      <td>18</td>\n",
       "      <td>3</td>\n",
       "      <td>7</td>\n",
       "      <td>A</td>\n",
       "    </tr>\n",
       "  </tbody>\n",
       "</table>\n",
       "<p>1000 rows × 8 columns</p>\n",
       "</div>"
      ],
      "text/plain": [
       "     A scored  B scored  sets A-Wins  sets B-Wins  games A-Wins  games B-Wins  \\\n",
       "0          76        26            3            0            18             1   \n",
       "1          77        26            3            0            18             0   \n",
       "2          81        33            3            0            18             4   \n",
       "3          81        30            3            0            18             2   \n",
       "4          79        24            3            0            18             2   \n",
       "..        ...       ...          ...          ...           ...           ...   \n",
       "995        90        46            3            0            18             3   \n",
       "996        81        35            3            0            18             0   \n",
       "997        77        27            3            0            18             1   \n",
       "998        78        30            3            0            18             1   \n",
       "999        83        40            3            0            18             3   \n",
       "\n",
       "     deuce Winner  \n",
       "0        4      A  \n",
       "1        5      A  \n",
       "2        3      A  \n",
       "3        5      A  \n",
       "4        3      A  \n",
       "..     ...    ...  \n",
       "995     13      A  \n",
       "996      9      A  \n",
       "997      3      A  \n",
       "998      4      A  \n",
       "999      7      A  \n",
       "\n",
       "[1000 rows x 8 columns]"
      ]
     },
     "execution_count": 3,
     "metadata": {},
     "output_type": "execute_result"
    }
   ],
   "source": [
    "tennis_df"
   ]
  },
  {
   "cell_type": "code",
   "execution_count": 4,
   "metadata": {},
   "outputs": [
    {
     "data": {
      "image/png": "[encoded data removed]",
      "text/plain": [
       "<Figure size 576x432 with 1 Axes>"
      ]
     },
     "metadata": {},
     "output_type": "display_data"
    }
   ],
   "source": [
    "sns.set_theme()\n",
    "fig, ax = plt.subplots(1, figsize=(8, 6))\n",
    "sns.histplot(data=tennis_df.loc[:1000, ['A scored', 'B scored']], ax=ax);"
   ]
  },
  {
   "cell_type": "code",
   "execution_count": 5,
   "metadata": {},
   "outputs": [],
   "source": [
    "qtd_a_winner = []\n",
    "qtd_b_winner = []\n",
    "\n",
    "for i in range(0, n_sample//3):\n",
    "    qtd_a_winner.append(sum(tennis_df.iloc[i*3:i*3+3, :]['Winner'] == 'A'))\n",
    "    qtd_b_winner.append(sum(tennis_df.iloc[i*3:i*3+3, :]['Winner'] == 'B'))\n",
    "\n",
    "qtd_a_winner = pd.DataFrame(qtd_a_winner)\n",
    "qtd_b_winner = pd.DataFrame(qtd_b_winner)"
   ]
  },
  {
   "cell_type": "code",
   "execution_count": 6,
   "metadata": {},
   "outputs": [
    {
     "name": "stdout",
     "output_type": "stream",
     "text": [
      "Média de vitórias de A: 3.0000 | Desvio padrão de vitórias de A: 0.0000\n",
      "Média de vitórias de B: 0.0000 | Desvio padrão de vitórias de B: 0.0000\n"
     ]
    }
   ],
   "source": [
    "print(f'Média de vitórias de A: {qtd_a_winner.mean().values[0]:.4f}', end=' | ')\n",
    "print(f'Desvio padrão de vitórias de A: {qtd_a_winner.std().values[0]:.4f}')\n",
    "print(f'Média de vitórias de B: {qtd_b_winner.mean().values[0]:.4f}', end=' | ')\n",
    "print(f'Desvio padrão de vitórias de B: {qtd_b_winner.std().values[0]:.4f}')"
   ]
  },
  {
   "cell_type": "code",
   "execution_count": 7,
   "metadata": {},
   "outputs": [
    {
     "data": {
      "image/png": "[encoded data removed]",
      "text/plain": [
       "<Figure size 1080x360 with 2 Axes>"
      ]
     },
     "metadata": {},
     "output_type": "display_data"
    }
   ],
   "source": [
    "\n",
    "# Gráfico da média acumulada\n",
    "fig, ax = plt.subplots(1, 2, figsize=(15, 5))\n",
    "ax[0].set_title('A winner cumulative mean')\n",
    "sns.lineplot(data=qtd_a_winner.expanding().mean().iloc[:, 0], ax=ax[0]);\n",
    "\n",
    "ax[1].set_title('B winner cumulative mean')\n",
    "sns.lineplot(data=qtd_b_winner.expanding().mean().iloc[:, 0], ax=ax[1], color='#9C7ABA');"
   ]
  },
  {
   "cell_type": "code",
   "execution_count": 8,
   "metadata": {},
   "outputs": [
    {
     "data": {
      "image/png": "[encoded data removed]",
      "text/plain": [
       "<Figure size 1080x360 with 2 Axes>"
      ]
     },
     "metadata": {},
     "output_type": "display_data"
    }
   ],
   "source": [
    "fig, ax = plt.subplots(1, 2, figsize=(15, 5))\n",
    "sns.boxplot(x=tennis_df['A scored'], ax=ax[0]);\n",
    "sns.boxplot(x=tennis_df['B scored'], ax=ax[1]);"
   ]
  },
  {
   "cell_type": "code",
   "execution_count": 9,
   "metadata": {},
   "outputs": [
    {
     "data": {
      "text/html": [
       "<div>\n",
       "<style scoped>\n",
       "    .dataframe tbody tr th:only-of-type {\n",
       "        vertical-align: middle;\n",
       "    }\n",
       "\n",
       "    .dataframe tbody tr th {\n",
       "        vertical-align: top;\n",
       "    }\n",
       "\n",
       "    .dataframe thead th {\n",
       "        text-align: right;\n",
       "    }\n",
       "</style>\n",
       "<table border=\"1\" class=\"dataframe\">\n",
       "  <thead>\n",
       "    <tr style=\"text-align: right;\">\n",
       "      <th></th>\n",
       "      <th>scored</th>\n",
       "      <th>sets</th>\n",
       "      <th>games</th>\n",
       "    </tr>\n",
       "  </thead>\n",
       "  <tbody>\n",
       "    <tr>\n",
       "      <th>A</th>\n",
       "      <td>0.700235</td>\n",
       "      <td>1.000000</td>\n",
       "      <td>0.901698</td>\n",
       "    </tr>\n",
       "    <tr>\n",
       "      <th>B</th>\n",
       "      <td>0.299765</td>\n",
       "      <td>0.299765</td>\n",
       "      <td>0.098302</td>\n",
       "    </tr>\n",
       "  </tbody>\n",
       "</table>\n",
       "</div>"
      ],
      "text/plain": [
       "     scored      sets     games\n",
       "A  0.700235  1.000000  0.901698\n",
       "B  0.299765  0.299765  0.098302"
      ]
     },
     "execution_count": 9,
     "metadata": {},
     "output_type": "execute_result"
    }
   ],
   "source": [
    "def percentage(df: pd.DataFrame, column_a: str, column_b: str):\n",
    "    data_a = df.loc[:, column_a].sum()\n",
    "    data_b = df.loc[:, column_b].sum()\n",
    "    return (data_a) / (data_a + data_b)\n",
    "\n",
    "percentages = {}\n",
    "percentages['scored'] = {'A': percentage(tennis_df, 'A scored', 'B scored'), 'B': percentage(tennis_df, 'B scored', 'A scored')}\n",
    "percentages['sets'] = {'A': percentage(tennis_df, 'sets A-Wins', 'sets B-Wins'), 'B': percentage(tennis_df, 'B scored', 'A scored')}\n",
    "percentages['games'] = {'A': percentage(tennis_df, 'games A-Wins', 'games B-Wins'), 'B': percentage(tennis_df, 'games B-Wins', 'games A-Wins')}\n",
    "\n",
    "percentages_df = pd.DataFrame(percentages)\n",
    "percentages_df"
   ]
  },
  {
   "cell_type": "code",
   "execution_count": 10,
   "metadata": {},
   "outputs": [
    {
     "data": {
      "text/html": [
       "<div>\n",
       "<style scoped>\n",
       "    .dataframe tbody tr th:only-of-type {\n",
       "        vertical-align: middle;\n",
       "    }\n",
       "\n",
       "    .dataframe tbody tr th {\n",
       "        vertical-align: top;\n",
       "    }\n",
       "\n",
       "    .dataframe thead th {\n",
       "        text-align: right;\n",
       "    }\n",
       "</style>\n",
       "<table border=\"1\" class=\"dataframe\">\n",
       "  <thead>\n",
       "    <tr style=\"text-align: right;\">\n",
       "      <th></th>\n",
       "      <th>scored_mean</th>\n",
       "      <th>scored_std</th>\n",
       "      <th>sets_mean</th>\n",
       "      <th>sets_std</th>\n",
       "      <th>games_mean</th>\n",
       "      <th>games_std</th>\n",
       "    </tr>\n",
       "  </thead>\n",
       "  <tbody>\n",
       "    <tr>\n",
       "      <th>A</th>\n",
       "      <td>81.772</td>\n",
       "      <td>5.335399</td>\n",
       "      <td>3.0</td>\n",
       "      <td>0.0</td>\n",
       "      <td>18.006</td>\n",
       "      <td>0.077266</td>\n",
       "    </tr>\n",
       "    <tr>\n",
       "      <th>B</th>\n",
       "      <td>81.772</td>\n",
       "      <td>5.335399</td>\n",
       "      <td>3.0</td>\n",
       "      <td>0.0</td>\n",
       "      <td>18.006</td>\n",
       "      <td>0.077266</td>\n",
       "    </tr>\n",
       "  </tbody>\n",
       "</table>\n",
       "</div>"
      ],
      "text/plain": [
       "   scored_mean  scored_std  sets_mean  sets_std  games_mean  games_std\n",
       "A       81.772    5.335399        3.0       0.0      18.006   0.077266\n",
       "B       81.772    5.335399        3.0       0.0      18.006   0.077266"
      ]
     },
     "execution_count": 10,
     "metadata": {},
     "output_type": "execute_result"
    }
   ],
   "source": [
    "statistics = {}\n",
    "statistics['scored_mean'] = {'A': tennis_df.loc[:, 'A scored'].mean(), 'B': tennis_df.loc[:, 'A scored'].mean()}\n",
    "statistics['scored_std'] = {'A': tennis_df.loc[:, 'A scored'].std(), 'B': tennis_df.loc[:, 'A scored'].std()}\n",
    "statistics['sets_mean'] = {'A': tennis_df.loc[:, 'sets A-Wins'].mean(), 'B': tennis_df.loc[:, 'sets A-Wins'].mean()}\n",
    "statistics['sets_std'] = {'A': tennis_df.loc[:, 'sets A-Wins'].std(), 'B': tennis_df.loc[:, 'sets A-Wins'].std()}\n",
    "statistics['games_mean'] = {'A': tennis_df.loc[:, 'games A-Wins'].mean(), 'B': tennis_df.loc[:, 'games A-Wins'].mean()}\n",
    "statistics['games_std'] = {'A': tennis_df.loc[:, 'games A-Wins'].std(), 'B': tennis_df.loc[:, 'games A-Wins'].std()}\n",
    "\n",
    "statistics_df = pd.DataFrame(statistics)\n",
    "statistics_df"
   ]
  },
  {
   "cell_type": "markdown",
   "metadata": {},
   "source": [
    "## Análise para p semelhante"
   ]
  },
  {
   "cell_type": "code",
   "execution_count": 11,
   "metadata": {},
   "outputs": [
    {
     "name": "stderr",
     "output_type": "stream",
     "text": [
      "100%|██████████| 1000/1000 [00:00<00:00, 1431.41it/s]\n"
     ]
    }
   ],
   "source": [
    "#\n",
    "n_sample = 1000\n",
    "probability = 0.52\n",
    "\n",
    "tennis_df = TenisSimulation.generate_dataset(probability, n_sample)\n",
    "tennis_df.to_parquet(f'{n_sample}_probability_{probability}.parquet.gzip')"
   ]
  },
  {
   "cell_type": "markdown",
   "metadata": {},
   "source": [
    "## Vários P"
   ]
  },
  {
   "cell_type": "code",
   "execution_count": 143,
   "metadata": {},
   "outputs": [],
   "source": [
    "%%capture\n",
    "def percentage(df: pd.DataFrame, column_a: str, column_b: str):\n",
    "    data_a = df.loc[:, column_a].sum()\n",
    "    data_b = df.loc[:, column_b].sum()\n",
    "    return (data_a) / (data_a + data_b)\n",
    "\n",
    "p_values = pd.DataFrame([])\n",
    "\n",
    "for i in range(0, 1001):\n",
    "    n_sample = 100\n",
    "    p = i * 0.0009 + 0.1\n",
    "    tennis_df = TenisSimulation.generate_dataset(p, n_sample)\n",
    "\n",
    "    percentages = {}\n",
    "    percentages['p'] = p\n",
    "    percentages['games'] = {'A': percentage(tennis_df, 'games A-Wins', 'games B-Wins')}\n",
    "    percentages['sets'] = {'A': percentage(tennis_df, 'sets A-Wins', 'sets B-Wins')}\n",
    "    percentages['match'] = {'A': tennis_df[tennis_df['Winner'] == 'A'].shape[0] / tennis_df.shape[0]}\n",
    "\n",
    "    percentages_df = pd.DataFrame(percentages)\n",
    "    p_values = pd.concat([p_values, percentages_df])"
   ]
  },
  {
   "cell_type": "code",
   "execution_count": 144,
   "metadata": {},
   "outputs": [
    {
     "data": {
      "image/png": "[encoded data removed]",
      "text/plain": [
       "<Figure size 864x576 with 1 Axes>"
      ]
     },
     "metadata": {},
     "output_type": "display_data"
    }
   ],
   "source": [
    "fig, ax = plt.subplots(1, 1, figsize=(12, 8))\n",
    "ax.set_title('Probability of winning based on p')\n",
    "sns.lineplot(data=p_values.copy().reset_index(), x='p', y='match', ax=ax, label='match');\n",
    "sns.lineplot(data=p_values.copy().reset_index(), x='p', y='sets', ax=ax, label='sets');\n",
    "sns.lineplot(data=p_values.copy().reset_index(), x='p', y='games', ax=ax, label='games');"
   ]
  },
  {
   "cell_type": "code",
   "execution_count": null,
   "metadata": {},
   "outputs": [],
   "source": []
  }
 ],
 "metadata": {
  "interpreter": {
   "hash": "f05924806ede7ae6076e3fa726bc7bd8543ecf44d8399f9bc44e285f9a56ada2"
  },
  "kernelspec": {
   "display_name": "Python 3.8.10 ('markov')",
   "language": "python",
   "name": "python3"
  },
  "language_info": {
   "codemirror_mode": {
    "name": "ipython",
    "version": 3
   },
   "file_extension": ".py",
   "mimetype": "text/x-python",
   "name": "python",
   "nbconvert_exporter": "python",
   "pygments_lexer": "ipython3",
   "version": "3.8.10"
  },
  "orig_nbformat": 4
 },
 "nbformat": 4,
 "nbformat_minor": 2
}
