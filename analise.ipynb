{
 "cells": [
  {
   "cell_type": "code",
   "execution_count": 1,
   "metadata": {},
   "outputs": [],
   "source": [
    "import pandas as pd\n",
    "import seaborn as sns\n",
    "import matplotlib.pyplot as plt\n",
    "import numpy as np\n",
    "import random\n",
    "from tqdm.autonotebook import tqdm\n",
    "from src.tennis import TenisSimulation"
   ]
  },
  {
   "cell_type": "markdown",
   "metadata": {},
   "source": [
    "<img src=\"imgs/chain.jpeg\" width=500>\n",
    "<p>\n",
    "Imagem retirada da internet, <a href=\"https://twitter.com/Vestige_du_jour/status/1052322461688061952\">referência</a>.\n",
    "</p>"
   ]
  },
  {
   "cell_type": "code",
   "execution_count": 2,
   "metadata": {},
   "outputs": [
    {
     "name": "stderr",
     "output_type": "stream",
     "text": [
      "100%|██████████| 10000/10000 [00:02<00:00, 4840.13it/s]\n"
     ]
    }
   ],
   "source": [
    "#\n",
    "n_sample = 10000\n",
    "probability = 0.75\n",
    "\n",
    "tennis_df = TenisSimulation.generate_dataset(probability, n_sample)\n",
    "tennis_df.to_parquet(f'datasets/{n_sample}_probability_{probability}.parquet.gzip')"
   ]
  },
  {
   "cell_type": "code",
   "execution_count": 3,
   "metadata": {},
   "outputs": [
    {
     "data": {
      "text/html": [
       "<div>\n",
       "<style scoped>\n",
       "    .dataframe tbody tr th:only-of-type {\n",
       "        vertical-align: middle;\n",
       "    }\n",
       "\n",
       "    .dataframe tbody tr th {\n",
       "        vertical-align: top;\n",
       "    }\n",
       "\n",
       "    .dataframe thead th {\n",
       "        text-align: right;\n",
       "    }\n",
       "</style>\n",
       "<table border=\"1\" class=\"dataframe\">\n",
       "  <thead>\n",
       "    <tr style=\"text-align: right;\">\n",
       "      <th></th>\n",
       "      <th>A scored</th>\n",
       "      <th>B scored</th>\n",
       "      <th>sets A-Wins</th>\n",
       "      <th>sets B-Wins</th>\n",
       "      <th>games A-Wins</th>\n",
       "      <th>games B-Wins</th>\n",
       "      <th>deuce</th>\n",
       "      <th>Winner</th>\n",
       "    </tr>\n",
       "  </thead>\n",
       "  <tbody>\n",
       "    <tr>\n",
       "      <th>0</th>\n",
       "      <td>53</td>\n",
       "      <td>19</td>\n",
       "      <td>2</td>\n",
       "      <td>0</td>\n",
       "      <td>12</td>\n",
       "      <td>2</td>\n",
       "      <td>2</td>\n",
       "      <td>A</td>\n",
       "    </tr>\n",
       "    <tr>\n",
       "      <th>1</th>\n",
       "      <td>48</td>\n",
       "      <td>12</td>\n",
       "      <td>2</td>\n",
       "      <td>0</td>\n",
       "      <td>12</td>\n",
       "      <td>0</td>\n",
       "      <td>0</td>\n",
       "      <td>A</td>\n",
       "    </tr>\n",
       "    <tr>\n",
       "      <th>2</th>\n",
       "      <td>53</td>\n",
       "      <td>25</td>\n",
       "      <td>2</td>\n",
       "      <td>0</td>\n",
       "      <td>12</td>\n",
       "      <td>2</td>\n",
       "      <td>3</td>\n",
       "      <td>A</td>\n",
       "    </tr>\n",
       "    <tr>\n",
       "      <th>3</th>\n",
       "      <td>52</td>\n",
       "      <td>12</td>\n",
       "      <td>2</td>\n",
       "      <td>0</td>\n",
       "      <td>12</td>\n",
       "      <td>1</td>\n",
       "      <td>2</td>\n",
       "      <td>A</td>\n",
       "    </tr>\n",
       "    <tr>\n",
       "      <th>4</th>\n",
       "      <td>53</td>\n",
       "      <td>22</td>\n",
       "      <td>2</td>\n",
       "      <td>0</td>\n",
       "      <td>12</td>\n",
       "      <td>2</td>\n",
       "      <td>2</td>\n",
       "      <td>A</td>\n",
       "    </tr>\n",
       "    <tr>\n",
       "      <th>...</th>\n",
       "      <td>...</td>\n",
       "      <td>...</td>\n",
       "      <td>...</td>\n",
       "      <td>...</td>\n",
       "      <td>...</td>\n",
       "      <td>...</td>\n",
       "      <td>...</td>\n",
       "      <td>...</td>\n",
       "    </tr>\n",
       "    <tr>\n",
       "      <th>9995</th>\n",
       "      <td>57</td>\n",
       "      <td>22</td>\n",
       "      <td>2</td>\n",
       "      <td>0</td>\n",
       "      <td>12</td>\n",
       "      <td>1</td>\n",
       "      <td>7</td>\n",
       "      <td>A</td>\n",
       "    </tr>\n",
       "    <tr>\n",
       "      <th>9996</th>\n",
       "      <td>55</td>\n",
       "      <td>18</td>\n",
       "      <td>2</td>\n",
       "      <td>0</td>\n",
       "      <td>12</td>\n",
       "      <td>2</td>\n",
       "      <td>4</td>\n",
       "      <td>A</td>\n",
       "    </tr>\n",
       "    <tr>\n",
       "      <th>9997</th>\n",
       "      <td>58</td>\n",
       "      <td>25</td>\n",
       "      <td>2</td>\n",
       "      <td>0</td>\n",
       "      <td>12</td>\n",
       "      <td>1</td>\n",
       "      <td>8</td>\n",
       "      <td>A</td>\n",
       "    </tr>\n",
       "    <tr>\n",
       "      <th>9998</th>\n",
       "      <td>51</td>\n",
       "      <td>18</td>\n",
       "      <td>2</td>\n",
       "      <td>0</td>\n",
       "      <td>12</td>\n",
       "      <td>1</td>\n",
       "      <td>2</td>\n",
       "      <td>A</td>\n",
       "    </tr>\n",
       "    <tr>\n",
       "      <th>9999</th>\n",
       "      <td>48</td>\n",
       "      <td>15</td>\n",
       "      <td>2</td>\n",
       "      <td>0</td>\n",
       "      <td>12</td>\n",
       "      <td>0</td>\n",
       "      <td>0</td>\n",
       "      <td>A</td>\n",
       "    </tr>\n",
       "  </tbody>\n",
       "</table>\n",
       "<p>10000 rows × 8 columns</p>\n",
       "</div>"
      ],
      "text/plain": [
       "      A scored  B scored  sets A-Wins  sets B-Wins  games A-Wins  \\\n",
       "0           53        19            2            0            12   \n",
       "1           48        12            2            0            12   \n",
       "2           53        25            2            0            12   \n",
       "3           52        12            2            0            12   \n",
       "4           53        22            2            0            12   \n",
       "...        ...       ...          ...          ...           ...   \n",
       "9995        57        22            2            0            12   \n",
       "9996        55        18            2            0            12   \n",
       "9997        58        25            2            0            12   \n",
       "9998        51        18            2            0            12   \n",
       "9999        48        15            2            0            12   \n",
       "\n",
       "      games B-Wins  deuce Winner  \n",
       "0                2      2      A  \n",
       "1                0      0      A  \n",
       "2                2      3      A  \n",
       "3                1      2      A  \n",
       "4                2      2      A  \n",
       "...            ...    ...    ...  \n",
       "9995             1      7      A  \n",
       "9996             2      4      A  \n",
       "9997             1      8      A  \n",
       "9998             1      2      A  \n",
       "9999             0      0      A  \n",
       "\n",
       "[10000 rows x 8 columns]"
      ]
     },
     "execution_count": 3,
     "metadata": {},
     "output_type": "execute_result"
    }
   ],
   "source": [
    "tennis_df"
   ]
  },
  {
   "cell_type": "code",
   "execution_count": 4,
   "metadata": {},
   "outputs": [
    {
     "data": {
      "image/png": "[encoded data removed]",
      "text/plain": [
       "<Figure size 576x432 with 1 Axes>"
      ]
     },
     "metadata": {},
     "output_type": "display_data"
    }
   ],
   "source": [
    "sns.set_theme()\n",
    "fig, ax = plt.subplots(1, figsize=(8, 6))\n",
    "sns.histplot(data=tennis_df.loc[:, ['A scored', 'B scored']], ax=ax);"
   ]
  },
  {
   "cell_type": "code",
   "execution_count": 5,
   "metadata": {},
   "outputs": [],
   "source": [
    "tennis_va3_dict = { \n",
    "    'A': { 'matches' : [], 'scored' : [], 'games' : [], 'sets' : []},\n",
    "    'B': { 'matches' : [], 'scored' : [], 'games' : [], 'sets' : []},\n",
    "}\n",
    "\n",
    "for i in range(0, n_sample//3):\n",
    "    tennis_va3_dict['A']['matches'].append(sum(tennis_df.iloc[i*3:i*3+3, :]['Winner'] == 'A'))\n",
    "    tennis_va3_dict['B']['matches'].append(sum(tennis_df.iloc[i*3:i*3+3, :]['Winner'] == 'B'))\n",
    "\n",
    "    tennis_va3_dict['A']['scored'].append(sum(tennis_df.loc[i*3:i*3+3, 'A scored']))\n",
    "    tennis_va3_dict['B']['scored'].append(sum(tennis_df.loc[i*3:i*3+3, 'B scored']))\n",
    "\n",
    "    tennis_va3_dict['A']['games'].append(sum(tennis_df.loc[i*3:i*3+3, 'games A-Wins']))\n",
    "    tennis_va3_dict['B']['games'].append(sum(tennis_df.loc[i*3:i*3+3, 'games B-Wins']))\n",
    "\n",
    "    tennis_va3_dict['A']['sets'].append(sum(tennis_df.loc[i*3:i*3+3, 'sets A-Wins']))\n",
    "    tennis_va3_dict['B']['sets'].append(sum(tennis_df.loc[i*3:i*3+3, 'sets B-Wins']))"
   ]
  },
  {
   "cell_type": "code",
   "execution_count": 6,
   "metadata": {},
   "outputs": [],
   "source": [
    "tennis_va3_df_dict = {\n",
    "    'A': {\n",
    "        'matches': pd.DataFrame(tennis_va3_dict['A']['matches']),\n",
    "        'scored': pd.DataFrame(tennis_va3_dict['A']['scored']),\n",
    "        'games': pd.DataFrame(tennis_va3_dict['A']['games']),\n",
    "        'sets': pd.DataFrame(tennis_va3_dict['A']['sets'])\n",
    "    },\n",
    "    'B': {\n",
    "        'matches': pd.DataFrame(tennis_va3_dict['B']['matches']),\n",
    "        'scored': pd.DataFrame(tennis_va3_dict['B']['scored']),\n",
    "        'games': pd.DataFrame(tennis_va3_dict['B']['games']),\n",
    "        'sets': pd.DataFrame(tennis_va3_dict['B']['sets'])\n",
    "    }}"
   ]
  },
  {
   "cell_type": "code",
   "execution_count": 7,
   "metadata": {},
   "outputs": [
    {
     "data": {
      "text/html": [
       "<div>\n",
       "<style scoped>\n",
       "    .dataframe tbody tr th:only-of-type {\n",
       "        vertical-align: middle;\n",
       "    }\n",
       "\n",
       "    .dataframe tbody tr th {\n",
       "        vertical-align: top;\n",
       "    }\n",
       "\n",
       "    .dataframe thead th {\n",
       "        text-align: right;\n",
       "    }\n",
       "</style>\n",
       "<table border=\"1\" class=\"dataframe\">\n",
       "  <thead>\n",
       "    <tr style=\"text-align: right;\">\n",
       "      <th></th>\n",
       "      <th>matches_mean</th>\n",
       "      <th>scored_mean</th>\n",
       "      <th>games_mean</th>\n",
       "      <th>sets_mean</th>\n",
       "    </tr>\n",
       "  </thead>\n",
       "  <tbody>\n",
       "    <tr>\n",
       "      <th>A</th>\n",
       "      <td>3.0</td>\n",
       "      <td>206.798680</td>\n",
       "      <td>48.000600</td>\n",
       "      <td>8.0</td>\n",
       "    </tr>\n",
       "    <tr>\n",
       "      <th>B</th>\n",
       "      <td>0.0</td>\n",
       "      <td>68.841884</td>\n",
       "      <td>2.553855</td>\n",
       "      <td>0.0</td>\n",
       "    </tr>\n",
       "  </tbody>\n",
       "</table>\n",
       "</div>"
      ],
      "text/plain": [
       "   matches_mean  scored_mean  games_mean  sets_mean\n",
       "A           3.0   206.798680   48.000600        8.0\n",
       "B           0.0    68.841884    2.553855        0.0"
      ]
     },
     "metadata": {},
     "output_type": "display_data"
    },
    {
     "data": {
      "text/html": [
       "<div>\n",
       "<style scoped>\n",
       "    .dataframe tbody tr th:only-of-type {\n",
       "        vertical-align: middle;\n",
       "    }\n",
       "\n",
       "    .dataframe tbody tr th {\n",
       "        vertical-align: top;\n",
       "    }\n",
       "\n",
       "    .dataframe thead th {\n",
       "        text-align: right;\n",
       "    }\n",
       "</style>\n",
       "<table border=\"1\" class=\"dataframe\">\n",
       "  <thead>\n",
       "    <tr style=\"text-align: right;\">\n",
       "      <th></th>\n",
       "      <th>matches_std</th>\n",
       "      <th>scored_std</th>\n",
       "      <th>games_std</th>\n",
       "      <th>sets_std</th>\n",
       "    </tr>\n",
       "  </thead>\n",
       "  <tbody>\n",
       "    <tr>\n",
       "      <th>A</th>\n",
       "      <td>0.0</td>\n",
       "      <td>5.82678</td>\n",
       "      <td>0.024489</td>\n",
       "      <td>0.0</td>\n",
       "    </tr>\n",
       "    <tr>\n",
       "      <th>B</th>\n",
       "      <td>0.0</td>\n",
       "      <td>11.12315</td>\n",
       "      <td>1.643759</td>\n",
       "      <td>0.0</td>\n",
       "    </tr>\n",
       "  </tbody>\n",
       "</table>\n",
       "</div>"
      ],
      "text/plain": [
       "   matches_std  scored_std  games_std  sets_std\n",
       "A          0.0     5.82678   0.024489       0.0\n",
       "B          0.0    11.12315   1.643759       0.0"
      ]
     },
     "metadata": {},
     "output_type": "display_data"
    }
   ],
   "source": [
    "# Média\n",
    "tennis_va3_mean = {\n",
    "    'A': [np.mean(i) for i in tennis_va3_dict['A'].values()],\n",
    "    'B': [np.mean(i) for i in tennis_va3_dict['B'].values()]\n",
    "}\n",
    "\n",
    "tennis_va3_mean = pd.DataFrame(tennis_va3_mean).transpose()\n",
    "tennis_va3_mean.columns = ['matches_mean', 'scored_mean', 'games_mean', 'sets_mean']\n",
    "display(tennis_va3_mean)\n",
    "\n",
    "# Desvio padrão\n",
    "tennis_va3_std = {\n",
    "    'A': [np.std(i) for i in tennis_va3_dict['A'].values()],\n",
    "    'B': [np.std(i) for i in tennis_va3_dict['B'].values()]\n",
    "}\n",
    "\n",
    "tennis_va3_std = pd.DataFrame(tennis_va3_std).transpose()\n",
    "tennis_va3_std.columns = ['matches_std', 'scored_std', 'games_std', 'sets_std']\n",
    "display(tennis_va3_std)"
   ]
  },
  {
   "cell_type": "code",
   "execution_count": 8,
   "metadata": {},
   "outputs": [
    {
     "data": {
      "image/png": "[encoded data removed]",
      "text/plain": [
       "<Figure size 1080x360 with 2 Axes>"
      ]
     },
     "metadata": {},
     "output_type": "display_data"
    }
   ],
   "source": [
    "# Gráfico da média acumulada\n",
    "fig, ax = plt.subplots(1, 2, figsize=(15, 5))\n",
    "ax[0].set_title('A winner cumulative mean')\n",
    "sns.lineplot(data=tennis_va3_df_dict['A']['matches'].expanding().mean().iloc[:, 0], ax=ax[0]);\n",
    "\n",
    "ax[1].set_title('B winner cumulative mean')\n",
    "sns.lineplot(data=tennis_va3_df_dict['B']['matches'].expanding().mean().iloc[:, 0], ax=ax[1], color='#9C7ABA');"
   ]
  },
  {
   "cell_type": "code",
   "execution_count": 9,
   "metadata": {},
   "outputs": [
    {
     "data": {
      "image/png": "[encoded data removed]",
      "text/plain": [
       "<Figure size 1080x360 with 2 Axes>"
      ]
     },
     "metadata": {},
     "output_type": "display_data"
    },
    {
     "data": {
      "image/png": "[encoded data removed]",
      "text/plain": [
       "<Figure size 1080x360 with 2 Axes>"
      ]
     },
     "metadata": {},
     "output_type": "display_data"
    }
   ],
   "source": [
    "fig, ax = plt.subplots(1, 2, figsize=(15, 5))\n",
    "sns.boxplot(x=tennis_va3_df_dict['A']['scored'][0], ax=ax[0]);\n",
    "ax[0].set_xlabel('A scored')\n",
    "sns.boxplot(x=tennis_va3_df_dict['B']['scored'][0], ax=ax[1]);\n",
    "ax[1].set_xlabel('B scored')\n",
    "\n",
    "fig, ax = plt.subplots(1, 2, figsize=(15, 5))\n",
    "sns.boxplot(x=tennis_va3_df_dict['A']['games'][0], ax=ax[0]);\n",
    "ax[0].set_xlabel('games A-wins')\n",
    "sns.boxplot(x=tennis_va3_df_dict['B']['games'][0], ax=ax[1]);\n",
    "ax[1].set_xlabel('games A-wins');"
   ]
  },
  {
   "cell_type": "code",
   "execution_count": 10,
   "metadata": {},
   "outputs": [
    {
     "data": {
      "text/html": [
       "<div>\n",
       "<style scoped>\n",
       "    .dataframe tbody tr th:only-of-type {\n",
       "        vertical-align: middle;\n",
       "    }\n",
       "\n",
       "    .dataframe tbody tr th {\n",
       "        vertical-align: top;\n",
       "    }\n",
       "\n",
       "    .dataframe thead th {\n",
       "        text-align: right;\n",
       "    }\n",
       "</style>\n",
       "<table border=\"1\" class=\"dataframe\">\n",
       "  <thead>\n",
       "    <tr style=\"text-align: right;\">\n",
       "      <th></th>\n",
       "      <th>scored</th>\n",
       "      <th>games</th>\n",
       "      <th>sets</th>\n",
       "      <th>matches</th>\n",
       "    </tr>\n",
       "  </thead>\n",
       "  <tbody>\n",
       "    <tr>\n",
       "      <th>A</th>\n",
       "      <td>0.750248</td>\n",
       "      <td>0.949483</td>\n",
       "      <td>1.0</td>\n",
       "      <td>1.0</td>\n",
       "    </tr>\n",
       "    <tr>\n",
       "      <th>B</th>\n",
       "      <td>0.249752</td>\n",
       "      <td>0.050517</td>\n",
       "      <td>0.0</td>\n",
       "      <td>0.0</td>\n",
       "    </tr>\n",
       "  </tbody>\n",
       "</table>\n",
       "</div>"
      ],
      "text/plain": [
       "     scored     games  sets  matches\n",
       "A  0.750248  0.949483   1.0      1.0\n",
       "B  0.249752  0.050517   0.0      0.0"
      ]
     },
     "execution_count": 10,
     "metadata": {},
     "output_type": "execute_result"
    }
   ],
   "source": [
    "def percentage(data_a: pd.DataFrame, data_b: pd.DataFrame):\n",
    "    data_a = data_a.sum()\n",
    "    data_b = data_b.sum()\n",
    "    return (data_a) / (data_a + data_b)\n",
    "\n",
    "percentages = {}\n",
    "\n",
    "percentages['scored'] = {\n",
    "    'A': percentage(tennis_va3_df_dict['A']['scored'][0], tennis_va3_df_dict['B']['scored'][0]),\n",
    "    'B': percentage(tennis_va3_df_dict['B']['scored'][0], tennis_va3_df_dict['A']['scored'][0])\n",
    "}\n",
    "percentages['games'] = {\n",
    "    'A': percentage(tennis_va3_df_dict['A']['games'][0], tennis_va3_df_dict['B']['games'][0]),\n",
    "    'B': percentage(tennis_va3_df_dict['B']['games'][0], tennis_va3_df_dict['A']['games'][0])\n",
    "}\n",
    "percentages['sets'] = {\n",
    "    'A': percentage(tennis_va3_df_dict['A']['sets'][0], tennis_va3_df_dict['B']['sets'][0]),\n",
    "    'B': percentage(tennis_va3_df_dict['B']['sets'][0], tennis_va3_df_dict['A']['sets'][0])\n",
    "}\n",
    "percentages['matches'] = {\n",
    "    'A': percentage(tennis_va3_df_dict['A']['matches'][0], tennis_va3_df_dict['B']['matches'][0]),\n",
    "    'B': percentage(tennis_va3_df_dict['B']['matches'][0], tennis_va3_df_dict['A']['matches'][0])\n",
    "}\n",
    "\n",
    "percentages_df = pd.DataFrame(percentages)\n",
    "percentages_df"
   ]
  },
  {
   "cell_type": "markdown",
   "metadata": {},
   "source": [
    "### VA com espaço amostral de 10 partidas"
   ]
  },
  {
   "cell_type": "code",
   "execution_count": 11,
   "metadata": {},
   "outputs": [],
   "source": [
    "tennis_va10_dict = { \n",
    "    'A': { 'matches' : [], 'scored' : [], 'games' : [], 'sets' : []},\n",
    "    'B': { 'matches' : [], 'scored' : [], 'games' : [], 'sets' : []},\n",
    "}\n",
    "\n",
    "samples = np.random.randint(0, n_sample//10, (n_sample//10, 10))\n",
    "\n",
    "for i in range(0, n_sample//10):\n",
    "    tennis_va10_dict['A']['matches'].append(sum(tennis_df.iloc[samples[i], :]['Winner'] == 'A'))\n",
    "    tennis_va10_dict['B']['matches'].append(sum(tennis_df.iloc[samples[i], :]['Winner'] == 'B'))\n",
    "\n",
    "    tennis_va10_dict['A']['scored'].append(sum(tennis_df.loc[samples[i], 'A scored']))\n",
    "    tennis_va10_dict['B']['scored'].append(sum(tennis_df.loc[samples[i], 'B scored']))\n",
    "\n",
    "    tennis_va10_dict['A']['games'].append(sum(tennis_df.loc[samples[i], 'games A-Wins']))\n",
    "    tennis_va10_dict['B']['games'].append(sum(tennis_df.loc[samples[i], 'games B-Wins']))\n",
    "\n",
    "    tennis_va10_dict['A']['sets'].append(sum(tennis_df.loc[samples[i], 'sets A-Wins']))\n",
    "    tennis_va10_dict['B']['sets'].append(sum(tennis_df.loc[samples[i], 'sets B-Wins']))"
   ]
  },
  {
   "cell_type": "code",
   "execution_count": 12,
   "metadata": {},
   "outputs": [],
   "source": [
    "tennis_va10_df_dict = {\n",
    "    'A': {\n",
    "        'matches': pd.DataFrame(tennis_va10_dict['A']['matches']),\n",
    "        'scored': pd.DataFrame(tennis_va10_dict['A']['scored']),\n",
    "        'games': pd.DataFrame(tennis_va10_dict['A']['games']),\n",
    "        'sets': pd.DataFrame(tennis_va10_dict['A']['sets'])\n",
    "    },\n",
    "    'B': {\n",
    "        'matches': pd.DataFrame(tennis_va10_dict['B']['matches']),\n",
    "        'scored': pd.DataFrame(tennis_va10_dict['B']['scored']),\n",
    "        'games': pd.DataFrame(tennis_va10_dict['B']['games']),\n",
    "        'sets': pd.DataFrame(tennis_va10_dict['B']['sets'])\n",
    "    }}"
   ]
  },
  {
   "cell_type": "code",
   "execution_count": 13,
   "metadata": {},
   "outputs": [
    {
     "data": {
      "text/html": [
       "<div>\n",
       "<style scoped>\n",
       "    .dataframe tbody tr th:only-of-type {\n",
       "        vertical-align: middle;\n",
       "    }\n",
       "\n",
       "    .dataframe tbody tr th {\n",
       "        vertical-align: top;\n",
       "    }\n",
       "\n",
       "    .dataframe thead th {\n",
       "        text-align: right;\n",
       "    }\n",
       "</style>\n",
       "<table border=\"1\" class=\"dataframe\">\n",
       "  <thead>\n",
       "    <tr style=\"text-align: right;\">\n",
       "      <th></th>\n",
       "      <th>matches_mean</th>\n",
       "      <th>scored_mean</th>\n",
       "      <th>games_mean</th>\n",
       "      <th>sets_mean</th>\n",
       "    </tr>\n",
       "  </thead>\n",
       "  <tbody>\n",
       "    <tr>\n",
       "      <th>A</th>\n",
       "      <td>10.0</td>\n",
       "      <td>517.124</td>\n",
       "      <td>120.000</td>\n",
       "      <td>20.0</td>\n",
       "    </tr>\n",
       "    <tr>\n",
       "      <th>B</th>\n",
       "      <td>0.0</td>\n",
       "      <td>172.489</td>\n",
       "      <td>6.867</td>\n",
       "      <td>0.0</td>\n",
       "    </tr>\n",
       "  </tbody>\n",
       "</table>\n",
       "</div>"
      ],
      "text/plain": [
       "   matches_mean  scored_mean  games_mean  sets_mean\n",
       "A          10.0      517.124     120.000       20.0\n",
       "B           0.0      172.489       6.867        0.0"
      ]
     },
     "metadata": {},
     "output_type": "display_data"
    },
    {
     "data": {
      "text/html": [
       "<div>\n",
       "<style scoped>\n",
       "    .dataframe tbody tr th:only-of-type {\n",
       "        vertical-align: middle;\n",
       "    }\n",
       "\n",
       "    .dataframe tbody tr th {\n",
       "        vertical-align: top;\n",
       "    }\n",
       "\n",
       "    .dataframe thead th {\n",
       "        text-align: right;\n",
       "    }\n",
       "</style>\n",
       "<table border=\"1\" class=\"dataframe\">\n",
       "  <thead>\n",
       "    <tr style=\"text-align: right;\">\n",
       "      <th></th>\n",
       "      <th>matches_std</th>\n",
       "      <th>scored_std</th>\n",
       "      <th>games_std</th>\n",
       "      <th>sets_std</th>\n",
       "    </tr>\n",
       "  </thead>\n",
       "  <tbody>\n",
       "    <tr>\n",
       "      <th>A</th>\n",
       "      <td>0.0</td>\n",
       "      <td>9.471675</td>\n",
       "      <td>0.000000</td>\n",
       "      <td>0.0</td>\n",
       "    </tr>\n",
       "    <tr>\n",
       "      <th>B</th>\n",
       "      <td>0.0</td>\n",
       "      <td>17.595792</td>\n",
       "      <td>2.649021</td>\n",
       "      <td>0.0</td>\n",
       "    </tr>\n",
       "  </tbody>\n",
       "</table>\n",
       "</div>"
      ],
      "text/plain": [
       "   matches_std  scored_std  games_std  sets_std\n",
       "A          0.0    9.471675   0.000000       0.0\n",
       "B          0.0   17.595792   2.649021       0.0"
      ]
     },
     "metadata": {},
     "output_type": "display_data"
    }
   ],
   "source": [
    "# Média\n",
    "tennis_va10_mean = {\n",
    "    'A': [np.mean(i) for i in tennis_va10_dict['A'].values()],\n",
    "    'B': [np.mean(i) for i in tennis_va10_dict['B'].values()]\n",
    "}\n",
    "\n",
    "tennis_va10_mean = pd.DataFrame(tennis_va10_mean).transpose()\n",
    "tennis_va10_mean.columns = ['matches_mean', 'scored_mean', 'games_mean', 'sets_mean']\n",
    "display(tennis_va10_mean)\n",
    "\n",
    "# Desvio padrão\n",
    "tennis_va10_std = {\n",
    "    'A': [np.std(i) for i in tennis_va10_dict['A'].values()],\n",
    "    'B': [np.std(i) for i in tennis_va10_dict['B'].values()]\n",
    "}\n",
    "\n",
    "tennis_va10_std = pd.DataFrame(tennis_va10_std).transpose()\n",
    "tennis_va10_std.columns = ['matches_std', 'scored_std', 'games_std', 'sets_std']\n",
    "display(tennis_va10_std)"
   ]
  },
  {
   "cell_type": "code",
   "execution_count": 14,
   "metadata": {},
   "outputs": [
    {
     "data": {
      "image/png": "[encoded data removed]",
      "text/plain": [
       "<Figure size 1080x360 with 2 Axes>"
      ]
     },
     "metadata": {},
     "output_type": "display_data"
    }
   ],
   "source": [
    "# Gráfico da média acumulada\n",
    "fig, ax = plt.subplots(1, 2, figsize=(15, 5))\n",
    "ax[0].set_title('A winner cumulative mean')\n",
    "sns.lineplot(data=tennis_va10_df_dict['A']['matches'].expanding().mean().iloc[:, 0], ax=ax[0]);\n",
    "\n",
    "ax[1].set_title('B winner cumulative mean')\n",
    "sns.lineplot(data=tennis_va10_df_dict['B']['matches'].expanding().mean().iloc[:, 0], ax=ax[1], color='#9C7ABA');"
   ]
  },
  {
   "cell_type": "code",
   "execution_count": 15,
   "metadata": {},
   "outputs": [
    {
     "data": {
      "image/png": "[encoded data removed]",
      "text/plain": [
       "<Figure size 1080x360 with 2 Axes>"
      ]
     },
     "metadata": {},
     "output_type": "display_data"
    },
    {
     "data": {
      "image/png": "[encoded data removed]",
      "text/plain": [
       "<Figure size 1080x360 with 2 Axes>"
      ]
     },
     "metadata": {},
     "output_type": "display_data"
    }
   ],
   "source": [
    "fig, ax = plt.subplots(1, 2, figsize=(15, 5))\n",
    "sns.boxplot(x=tennis_va10_df_dict['A']['scored'][0], ax=ax[0]);\n",
    "ax[0].set_xlabel('A scored')\n",
    "sns.boxplot(x=tennis_va10_df_dict['B']['scored'][0], ax=ax[1]);\n",
    "ax[1].set_xlabel('B scored')\n",
    "\n",
    "fig, ax = plt.subplots(1, 2, figsize=(15, 5))\n",
    "sns.boxplot(x=tennis_va10_df_dict['A']['games'][0], ax=ax[0]);\n",
    "ax[0].set_xlabel('games A-wins')\n",
    "sns.boxplot(x=tennis_va10_df_dict['B']['games'][0], ax=ax[1]);\n",
    "ax[1].set_xlabel('games A-wins');"
   ]
  },
  {
   "cell_type": "code",
   "execution_count": 16,
   "metadata": {},
   "outputs": [
    {
     "data": {
      "text/html": [
       "<div>\n",
       "<style scoped>\n",
       "    .dataframe tbody tr th:only-of-type {\n",
       "        vertical-align: middle;\n",
       "    }\n",
       "\n",
       "    .dataframe tbody tr th {\n",
       "        vertical-align: top;\n",
       "    }\n",
       "\n",
       "    .dataframe thead th {\n",
       "        text-align: right;\n",
       "    }\n",
       "</style>\n",
       "<table border=\"1\" class=\"dataframe\">\n",
       "  <thead>\n",
       "    <tr style=\"text-align: right;\">\n",
       "      <th></th>\n",
       "      <th>scored</th>\n",
       "      <th>games</th>\n",
       "      <th>sets</th>\n",
       "      <th>matches</th>\n",
       "    </tr>\n",
       "  </thead>\n",
       "  <tbody>\n",
       "    <tr>\n",
       "      <th>A</th>\n",
       "      <td>0.749876</td>\n",
       "      <td>0.945872</td>\n",
       "      <td>1.0</td>\n",
       "      <td>1.0</td>\n",
       "    </tr>\n",
       "    <tr>\n",
       "      <th>B</th>\n",
       "      <td>0.250124</td>\n",
       "      <td>0.054128</td>\n",
       "      <td>0.0</td>\n",
       "      <td>0.0</td>\n",
       "    </tr>\n",
       "  </tbody>\n",
       "</table>\n",
       "</div>"
      ],
      "text/plain": [
       "     scored     games  sets  matches\n",
       "A  0.749876  0.945872   1.0      1.0\n",
       "B  0.250124  0.054128   0.0      0.0"
      ]
     },
     "execution_count": 16,
     "metadata": {},
     "output_type": "execute_result"
    }
   ],
   "source": [
    "def percentage(data_a: pd.DataFrame, data_b: pd.DataFrame):\n",
    "    data_a = data_a.sum()\n",
    "    data_b = data_b.sum()\n",
    "    return (data_a) / (data_a + data_b)\n",
    "\n",
    "percentages = {}\n",
    "\n",
    "percentages['scored'] = {\n",
    "    'A': percentage(tennis_va10_df_dict['A']['scored'][0], tennis_va10_df_dict['B']['scored'][0]),\n",
    "    'B': percentage(tennis_va10_df_dict['B']['scored'][0], tennis_va10_df_dict['A']['scored'][0])\n",
    "}\n",
    "percentages['games'] = {\n",
    "    'A': percentage(tennis_va10_df_dict['A']['games'][0], tennis_va10_df_dict['B']['games'][0]),\n",
    "    'B': percentage(tennis_va10_df_dict['B']['games'][0], tennis_va10_df_dict['A']['games'][0])\n",
    "}\n",
    "percentages['sets'] = {\n",
    "    'A': percentage(tennis_va10_df_dict['A']['sets'][0], tennis_va10_df_dict['B']['sets'][0]),\n",
    "    'B': percentage(tennis_va10_df_dict['B']['sets'][0], tennis_va10_df_dict['A']['sets'][0])\n",
    "}\n",
    "percentages['matches'] = {\n",
    "    'A': percentage(tennis_va10_df_dict['A']['matches'][0], tennis_va10_df_dict['B']['matches'][0]),\n",
    "    'B': percentage(tennis_va10_df_dict['B']['matches'][0], tennis_va10_df_dict['A']['matches'][0])\n",
    "}\n",
    "\n",
    "percentages_df = pd.DataFrame(percentages)\n",
    "percentages_df"
   ]
  },
  {
   "cell_type": "markdown",
   "metadata": {},
   "source": [
    "## Análise para p semelhante"
   ]
  },
  {
   "cell_type": "code",
   "execution_count": 17,
   "metadata": {},
   "outputs": [
    {
     "name": "stderr",
     "output_type": "stream",
     "text": [
      "100%|██████████| 10000/10000 [00:04<00:00, 2427.41it/s]\n"
     ]
    }
   ],
   "source": [
    "#\n",
    "n_sample = 10000\n",
    "probability = 0.50\n",
    "\n",
    "tennis_df = TenisSimulation.generate_dataset(probability, n_sample)\n",
    "tennis_df.to_parquet(f'datasets/{n_sample}_probability_{probability}.parquet.gzip')"
   ]
  },
  {
   "cell_type": "code",
   "execution_count": 18,
   "metadata": {},
   "outputs": [
    {
     "data": {
      "image/png": "[encoded data removed]",
      "text/plain": [
       "<Figure size 576x432 with 1 Axes>"
      ]
     },
     "metadata": {},
     "output_type": "display_data"
    }
   ],
   "source": [
    "sns.set_theme()\n",
    "fig, ax = plt.subplots(1, figsize=(8, 6))\n",
    "sns.histplot(data=tennis_df.loc[:, ['A scored', 'B scored']], ax=ax);"
   ]
  },
  {
   "cell_type": "code",
   "execution_count": 19,
   "metadata": {},
   "outputs": [],
   "source": [
    "tennis_va3_dict = { \n",
    "    'A': { 'matches' : [], 'scored' : [], 'games' : [], 'sets' : []},\n",
    "    'B': { 'matches' : [], 'scored' : [], 'games' : [], 'sets' : []},\n",
    "}\n",
    "\n",
    "for i in range(0, n_sample//3):\n",
    "    tennis_va3_dict['A']['matches'].append(sum(tennis_df.iloc[i*3:i*3+3, :]['Winner'] == 'A'))\n",
    "    tennis_va3_dict['B']['matches'].append(sum(tennis_df.iloc[i*3:i*3+3, :]['Winner'] == 'B'))\n",
    "\n",
    "    tennis_va3_dict['A']['scored'].append(sum(tennis_df.loc[i*3:i*3+3, 'A scored']))\n",
    "    tennis_va3_dict['B']['scored'].append(sum(tennis_df.loc[i*3:i*3+3, 'B scored']))\n",
    "\n",
    "    tennis_va3_dict['A']['games'].append(sum(tennis_df.loc[i*3:i*3+3, 'games A-Wins']))\n",
    "    tennis_va3_dict['B']['games'].append(sum(tennis_df.loc[i*3:i*3+3, 'games B-Wins']))\n",
    "\n",
    "    tennis_va3_dict['A']['sets'].append(sum(tennis_df.loc[i*3:i*3+3, 'sets A-Wins']))\n",
    "    tennis_va3_dict['B']['sets'].append(sum(tennis_df.loc[i*3:i*3+3, 'sets B-Wins']))"
   ]
  },
  {
   "cell_type": "code",
   "execution_count": 20,
   "metadata": {},
   "outputs": [],
   "source": [
    "tennis_va3_df_dict = {\n",
    "    'A': {\n",
    "        'matches': pd.DataFrame(tennis_va3_dict['A']['matches']),\n",
    "        'scored': pd.DataFrame(tennis_va3_dict['A']['scored']),\n",
    "        'games': pd.DataFrame(tennis_va3_dict['A']['games']),\n",
    "        'sets': pd.DataFrame(tennis_va3_dict['A']['sets'])\n",
    "    },\n",
    "    'B': {\n",
    "        'matches': pd.DataFrame(tennis_va3_dict['B']['matches']),\n",
    "        'scored': pd.DataFrame(tennis_va3_dict['B']['scored']),\n",
    "        'games': pd.DataFrame(tennis_va3_dict['B']['games']),\n",
    "        'sets': pd.DataFrame(tennis_va3_dict['B']['sets'])\n",
    "    }}"
   ]
  },
  {
   "cell_type": "code",
   "execution_count": 21,
   "metadata": {},
   "outputs": [
    {
     "data": {
      "text/html": [
       "<div>\n",
       "<style scoped>\n",
       "    .dataframe tbody tr th:only-of-type {\n",
       "        vertical-align: middle;\n",
       "    }\n",
       "\n",
       "    .dataframe tbody tr th {\n",
       "        vertical-align: top;\n",
       "    }\n",
       "\n",
       "    .dataframe thead th {\n",
       "        text-align: right;\n",
       "    }\n",
       "</style>\n",
       "<table border=\"1\" class=\"dataframe\">\n",
       "  <thead>\n",
       "    <tr style=\"text-align: right;\">\n",
       "      <th></th>\n",
       "      <th>matches_mean</th>\n",
       "      <th>scored_mean</th>\n",
       "      <th>games_mean</th>\n",
       "      <th>sets_mean</th>\n",
       "    </tr>\n",
       "  </thead>\n",
       "  <tbody>\n",
       "    <tr>\n",
       "      <th>A</th>\n",
       "      <td>1.474347</td>\n",
       "      <td>324.186019</td>\n",
       "      <td>47.942094</td>\n",
       "      <td>4.927693</td>\n",
       "    </tr>\n",
       "    <tr>\n",
       "      <th>B</th>\n",
       "      <td>1.525653</td>\n",
       "      <td>324.823882</td>\n",
       "      <td>48.270327</td>\n",
       "      <td>5.031503</td>\n",
       "    </tr>\n",
       "  </tbody>\n",
       "</table>\n",
       "</div>"
      ],
      "text/plain": [
       "   matches_mean  scored_mean  games_mean  sets_mean\n",
       "A      1.474347   324.186019   47.942094   4.927693\n",
       "B      1.525653   324.823882   48.270327   5.031503"
      ]
     },
     "metadata": {},
     "output_type": "display_data"
    },
    {
     "data": {
      "text/html": [
       "<div>\n",
       "<style scoped>\n",
       "    .dataframe tbody tr th:only-of-type {\n",
       "        vertical-align: middle;\n",
       "    }\n",
       "\n",
       "    .dataframe tbody tr th {\n",
       "        vertical-align: top;\n",
       "    }\n",
       "\n",
       "    .dataframe thead th {\n",
       "        text-align: right;\n",
       "    }\n",
       "</style>\n",
       "<table border=\"1\" class=\"dataframe\">\n",
       "  <thead>\n",
       "    <tr style=\"text-align: right;\">\n",
       "      <th></th>\n",
       "      <th>matches_std</th>\n",
       "      <th>scored_std</th>\n",
       "      <th>games_std</th>\n",
       "      <th>sets_std</th>\n",
       "    </tr>\n",
       "  </thead>\n",
       "  <tbody>\n",
       "    <tr>\n",
       "      <th>A</th>\n",
       "      <td>0.860344</td>\n",
       "      <td>44.208344</td>\n",
       "      <td>7.763181</td>\n",
       "      <td>1.669476</td>\n",
       "    </tr>\n",
       "    <tr>\n",
       "      <th>B</th>\n",
       "      <td>0.860344</td>\n",
       "      <td>43.507015</td>\n",
       "      <td>7.567229</td>\n",
       "      <td>1.659212</td>\n",
       "    </tr>\n",
       "  </tbody>\n",
       "</table>\n",
       "</div>"
      ],
      "text/plain": [
       "   matches_std  scored_std  games_std  sets_std\n",
       "A     0.860344   44.208344   7.763181  1.669476\n",
       "B     0.860344   43.507015   7.567229  1.659212"
      ]
     },
     "metadata": {},
     "output_type": "display_data"
    }
   ],
   "source": [
    "# Média\n",
    "tennis_va3_mean = {\n",
    "    'A': [np.mean(i) for i in tennis_va3_dict['A'].values()],\n",
    "    'B': [np.mean(i) for i in tennis_va3_dict['B'].values()]\n",
    "}\n",
    "\n",
    "tennis_va3_mean = pd.DataFrame(tennis_va3_mean).transpose()\n",
    "tennis_va3_mean.columns = ['matches_mean', 'scored_mean', 'games_mean', 'sets_mean']\n",
    "display(tennis_va3_mean)\n",
    "\n",
    "# Desvio padrão\n",
    "tennis_va3_std = {\n",
    "    'A': [np.std(i) for i in tennis_va3_dict['A'].values()],\n",
    "    'B': [np.std(i) for i in tennis_va3_dict['B'].values()]\n",
    "}\n",
    "\n",
    "tennis_va3_std = pd.DataFrame(tennis_va3_std).transpose()\n",
    "tennis_va3_std.columns = ['matches_std', 'scored_std', 'games_std', 'sets_std']\n",
    "display(tennis_va3_std)"
   ]
  },
  {
   "cell_type": "code",
   "execution_count": 22,
   "metadata": {},
   "outputs": [
    {
     "data": {
      "image/png": "[encoded data removed]",
      "text/plain": [
       "<Figure size 1080x360 with 2 Axes>"
      ]
     },
     "metadata": {},
     "output_type": "display_data"
    }
   ],
   "source": [
    "# Gráfico da média acumulada\n",
    "fig, ax = plt.subplots(1, 2, figsize=(15, 5))\n",
    "ax[0].set_title('A winner cumulative mean')\n",
    "sns.lineplot(data=tennis_va3_df_dict['A']['matches'].expanding().mean().iloc[:, 0], ax=ax[0]);\n",
    "\n",
    "ax[1].set_title('B winner cumulative mean')\n",
    "sns.lineplot(data=tennis_va3_df_dict['B']['matches'].expanding().mean().iloc[:, 0], ax=ax[1], color='#9C7ABA');"
   ]
  },
  {
   "cell_type": "code",
   "execution_count": 23,
   "metadata": {},
   "outputs": [
    {
     "data": {
      "image/png": "[encoded data removed]",
      "text/plain": [
       "<Figure size 1080x360 with 2 Axes>"
      ]
     },
     "metadata": {},
     "output_type": "display_data"
    },
    {
     "data": {
      "image/png": "[encoded data removed]",
      "text/plain": [
       "<Figure size 1080x360 with 2 Axes>"
      ]
     },
     "metadata": {},
     "output_type": "display_data"
    }
   ],
   "source": [
    "fig, ax = plt.subplots(1, 2, figsize=(15, 5))\n",
    "sns.boxplot(x=tennis_va3_df_dict['A']['scored'][0], ax=ax[0]);\n",
    "ax[0].set_xlabel('A scored')\n",
    "sns.boxplot(x=tennis_va3_df_dict['B']['scored'][0], ax=ax[1]);\n",
    "ax[1].set_xlabel('B scored')\n",
    "\n",
    "fig, ax = plt.subplots(1, 2, figsize=(15, 5))\n",
    "sns.boxplot(x=tennis_va3_df_dict['A']['games'][0], ax=ax[0]);\n",
    "ax[0].set_xlabel('games A-wins')\n",
    "sns.boxplot(x=tennis_va3_df_dict['B']['games'][0], ax=ax[1]);\n",
    "ax[1].set_xlabel('games A-wins');"
   ]
  },
  {
   "cell_type": "code",
   "execution_count": 24,
   "metadata": {},
   "outputs": [
    {
     "data": {
      "text/html": [
       "<div>\n",
       "<style scoped>\n",
       "    .dataframe tbody tr th:only-of-type {\n",
       "        vertical-align: middle;\n",
       "    }\n",
       "\n",
       "    .dataframe tbody tr th {\n",
       "        vertical-align: top;\n",
       "    }\n",
       "\n",
       "    .dataframe thead th {\n",
       "        text-align: right;\n",
       "    }\n",
       "</style>\n",
       "<table border=\"1\" class=\"dataframe\">\n",
       "  <thead>\n",
       "    <tr style=\"text-align: right;\">\n",
       "      <th></th>\n",
       "      <th>scored</th>\n",
       "      <th>games</th>\n",
       "      <th>sets</th>\n",
       "      <th>matches</th>\n",
       "    </tr>\n",
       "  </thead>\n",
       "  <tbody>\n",
       "    <tr>\n",
       "      <th>A</th>\n",
       "      <td>0.499509</td>\n",
       "      <td>0.498294</td>\n",
       "      <td>0.494788</td>\n",
       "      <td>0.491449</td>\n",
       "    </tr>\n",
       "    <tr>\n",
       "      <th>B</th>\n",
       "      <td>0.500491</td>\n",
       "      <td>0.501706</td>\n",
       "      <td>0.505212</td>\n",
       "      <td>0.508551</td>\n",
       "    </tr>\n",
       "  </tbody>\n",
       "</table>\n",
       "</div>"
      ],
      "text/plain": [
       "     scored     games      sets   matches\n",
       "A  0.499509  0.498294  0.494788  0.491449\n",
       "B  0.500491  0.501706  0.505212  0.508551"
      ]
     },
     "execution_count": 24,
     "metadata": {},
     "output_type": "execute_result"
    }
   ],
   "source": [
    "def percentage(data_a: pd.DataFrame, data_b: pd.DataFrame):\n",
    "    data_a = data_a.sum()\n",
    "    data_b = data_b.sum()\n",
    "    return (data_a) / (data_a + data_b)\n",
    "\n",
    "percentages = {}\n",
    "\n",
    "percentages['scored'] = {\n",
    "    'A': percentage(tennis_va3_df_dict['A']['scored'][0], tennis_va3_df_dict['B']['scored'][0]),\n",
    "    'B': percentage(tennis_va3_df_dict['B']['scored'][0], tennis_va3_df_dict['A']['scored'][0])\n",
    "}\n",
    "percentages['games'] = {\n",
    "    'A': percentage(tennis_va3_df_dict['A']['games'][0], tennis_va3_df_dict['B']['games'][0]),\n",
    "    'B': percentage(tennis_va3_df_dict['B']['games'][0], tennis_va3_df_dict['A']['games'][0])\n",
    "}\n",
    "percentages['sets'] = {\n",
    "    'A': percentage(tennis_va3_df_dict['A']['sets'][0], tennis_va3_df_dict['B']['sets'][0]),\n",
    "    'B': percentage(tennis_va3_df_dict['B']['sets'][0], tennis_va3_df_dict['A']['sets'][0])\n",
    "}\n",
    "percentages['matches'] = {\n",
    "    'A': percentage(tennis_va3_df_dict['A']['matches'][0], tennis_va3_df_dict['B']['matches'][0]),\n",
    "    'B': percentage(tennis_va3_df_dict['B']['matches'][0], tennis_va3_df_dict['A']['matches'][0])\n",
    "}\n",
    "\n",
    "percentages_df = pd.DataFrame(percentages)\n",
    "percentages_df"
   ]
  },
  {
   "cell_type": "markdown",
   "metadata": {},
   "source": [
    "### VA com espaço amostral de 10 partidas"
   ]
  },
  {
   "cell_type": "code",
   "execution_count": 25,
   "metadata": {},
   "outputs": [],
   "source": [
    "tennis_va10_dict = { \n",
    "    'A': { 'matches' : [], 'scored' : [], 'games' : [], 'sets' : []},\n",
    "    'B': { 'matches' : [], 'scored' : [], 'games' : [], 'sets' : []},\n",
    "}\n",
    "\n",
    "samples = np.random.randint(0, n_sample//10, (n_sample//10, 10))\n",
    "\n",
    "for i in range(0, n_sample//10):\n",
    "    tennis_va10_dict['A']['matches'].append(sum(tennis_df.iloc[samples[i], :]['Winner'] == 'A'))\n",
    "    tennis_va10_dict['B']['matches'].append(sum(tennis_df.iloc[samples[i], :]['Winner'] == 'B'))\n",
    "\n",
    "    tennis_va10_dict['A']['scored'].append(sum(tennis_df.loc[samples[i], 'A scored']))\n",
    "    tennis_va10_dict['B']['scored'].append(sum(tennis_df.loc[samples[i], 'B scored']))\n",
    "\n",
    "    tennis_va10_dict['A']['games'].append(sum(tennis_df.loc[samples[i], 'games A-Wins']))\n",
    "    tennis_va10_dict['B']['games'].append(sum(tennis_df.loc[samples[i], 'games B-Wins']))\n",
    "\n",
    "    tennis_va10_dict['A']['sets'].append(sum(tennis_df.loc[samples[i], 'sets A-Wins']))\n",
    "    tennis_va10_dict['B']['sets'].append(sum(tennis_df.loc[samples[i], 'sets B-Wins']))"
   ]
  },
  {
   "cell_type": "code",
   "execution_count": 26,
   "metadata": {},
   "outputs": [],
   "source": [
    "tennis_va10_df_dict = {\n",
    "    'A': {\n",
    "        'matches': pd.DataFrame(tennis_va10_dict['A']['matches']),\n",
    "        'scored': pd.DataFrame(tennis_va10_dict['A']['scored']),\n",
    "        'games': pd.DataFrame(tennis_va10_dict['A']['games']),\n",
    "        'sets': pd.DataFrame(tennis_va10_dict['A']['sets'])\n",
    "    },\n",
    "    'B': {\n",
    "        'matches': pd.DataFrame(tennis_va10_dict['B']['matches']),\n",
    "        'scored': pd.DataFrame(tennis_va10_dict['B']['scored']),\n",
    "        'games': pd.DataFrame(tennis_va10_dict['B']['games']),\n",
    "        'sets': pd.DataFrame(tennis_va10_dict['B']['sets'])\n",
    "    }}"
   ]
  },
  {
   "cell_type": "code",
   "execution_count": 27,
   "metadata": {},
   "outputs": [
    {
     "data": {
      "text/html": [
       "<div>\n",
       "<style scoped>\n",
       "    .dataframe tbody tr th:only-of-type {\n",
       "        vertical-align: middle;\n",
       "    }\n",
       "\n",
       "    .dataframe tbody tr th {\n",
       "        vertical-align: top;\n",
       "    }\n",
       "\n",
       "    .dataframe thead th {\n",
       "        text-align: right;\n",
       "    }\n",
       "</style>\n",
       "<table border=\"1\" class=\"dataframe\">\n",
       "  <thead>\n",
       "    <tr style=\"text-align: right;\">\n",
       "      <th></th>\n",
       "      <th>matches_mean</th>\n",
       "      <th>scored_mean</th>\n",
       "      <th>games_mean</th>\n",
       "      <th>sets_mean</th>\n",
       "    </tr>\n",
       "  </thead>\n",
       "  <tbody>\n",
       "    <tr>\n",
       "      <th>A</th>\n",
       "      <td>4.917</td>\n",
       "      <td>814.318</td>\n",
       "      <td>119.806</td>\n",
       "      <td>12.249</td>\n",
       "    </tr>\n",
       "    <tr>\n",
       "      <th>B</th>\n",
       "      <td>5.083</td>\n",
       "      <td>816.075</td>\n",
       "      <td>121.731</td>\n",
       "      <td>12.771</td>\n",
       "    </tr>\n",
       "  </tbody>\n",
       "</table>\n",
       "</div>"
      ],
      "text/plain": [
       "   matches_mean  scored_mean  games_mean  sets_mean\n",
       "A         4.917      814.318     119.806     12.249\n",
       "B         5.083      816.075     121.731     12.771"
      ]
     },
     "metadata": {},
     "output_type": "display_data"
    },
    {
     "data": {
      "text/html": [
       "<div>\n",
       "<style scoped>\n",
       "    .dataframe tbody tr th:only-of-type {\n",
       "        vertical-align: middle;\n",
       "    }\n",
       "\n",
       "    .dataframe tbody tr th {\n",
       "        vertical-align: top;\n",
       "    }\n",
       "\n",
       "    .dataframe thead th {\n",
       "        text-align: right;\n",
       "    }\n",
       "</style>\n",
       "<table border=\"1\" class=\"dataframe\">\n",
       "  <thead>\n",
       "    <tr style=\"text-align: right;\">\n",
       "      <th></th>\n",
       "      <th>matches_std</th>\n",
       "      <th>scored_std</th>\n",
       "      <th>games_std</th>\n",
       "      <th>sets_std</th>\n",
       "    </tr>\n",
       "  </thead>\n",
       "  <tbody>\n",
       "    <tr>\n",
       "      <th>A</th>\n",
       "      <td>1.631598</td>\n",
       "      <td>69.373762</td>\n",
       "      <td>12.171703</td>\n",
       "      <td>2.712748</td>\n",
       "    </tr>\n",
       "    <tr>\n",
       "      <th>B</th>\n",
       "      <td>1.631598</td>\n",
       "      <td>68.373689</td>\n",
       "      <td>11.937614</td>\n",
       "      <td>2.680030</td>\n",
       "    </tr>\n",
       "  </tbody>\n",
       "</table>\n",
       "</div>"
      ],
      "text/plain": [
       "   matches_std  scored_std  games_std  sets_std\n",
       "A     1.631598   69.373762  12.171703  2.712748\n",
       "B     1.631598   68.373689  11.937614  2.680030"
      ]
     },
     "metadata": {},
     "output_type": "display_data"
    }
   ],
   "source": [
    "# Média\n",
    "tennis_va10_mean = {\n",
    "    'A': [np.mean(i) for i in tennis_va10_dict['A'].values()],\n",
    "    'B': [np.mean(i) for i in tennis_va10_dict['B'].values()]\n",
    "}\n",
    "\n",
    "tennis_va10_mean = pd.DataFrame(tennis_va10_mean).transpose()\n",
    "tennis_va10_mean.columns = ['matches_mean', 'scored_mean', 'games_mean', 'sets_mean']\n",
    "display(tennis_va10_mean)\n",
    "\n",
    "# Desvio padrão\n",
    "tennis_va10_std = {\n",
    "    'A': [np.std(i) for i in tennis_va10_dict['A'].values()],\n",
    "    'B': [np.std(i) for i in tennis_va10_dict['B'].values()]\n",
    "}\n",
    "\n",
    "tennis_va10_std = pd.DataFrame(tennis_va10_std).transpose()\n",
    "tennis_va10_std.columns = ['matches_std', 'scored_std', 'games_std', 'sets_std']\n",
    "display(tennis_va10_std)"
   ]
  },
  {
   "cell_type": "code",
   "execution_count": 28,
   "metadata": {},
   "outputs": [
    {
     "data": {
      "image/png": "[encoded data removed]",
      "text/plain": [
       "<Figure size 1080x360 with 2 Axes>"
      ]
     },
     "metadata": {},
     "output_type": "display_data"
    }
   ],
   "source": [
    "# Gráfico da média acumulada\n",
    "fig, ax = plt.subplots(1, 2, figsize=(15, 5))\n",
    "ax[0].set_title('A winner cumulative mean')\n",
    "sns.lineplot(data=tennis_va10_df_dict['A']['matches'].expanding().mean().iloc[:, 0], ax=ax[0]);\n",
    "\n",
    "ax[1].set_title('B winner cumulative mean')\n",
    "sns.lineplot(data=tennis_va10_df_dict['B']['matches'].expanding().mean().iloc[:, 0], ax=ax[1], color='#9C7ABA');"
   ]
  },
  {
   "cell_type": "code",
   "execution_count": 29,
   "metadata": {},
   "outputs": [
    {
     "data": {
      "image/png": "[encoded data removed]",
      "text/plain": [
       "<Figure size 1080x360 with 2 Axes>"
      ]
     },
     "metadata": {},
     "output_type": "display_data"
    },
    {
     "data": {
      "image/png": "[encoded data removed]",
      "text/plain": [
       "<Figure size 1080x360 with 2 Axes>"
      ]
     },
     "metadata": {},
     "output_type": "display_data"
    }
   ],
   "source": [
    "fig, ax = plt.subplots(1, 2, figsize=(15, 5))\n",
    "sns.boxplot(x=tennis_va10_df_dict['A']['scored'][0], ax=ax[0]);\n",
    "ax[0].set_xlabel('A scored')\n",
    "sns.boxplot(x=tennis_va10_df_dict['B']['scored'][0], ax=ax[1]);\n",
    "ax[1].set_xlabel('B scored')\n",
    "\n",
    "fig, ax = plt.subplots(1, 2, figsize=(15, 5))\n",
    "sns.boxplot(x=tennis_va10_df_dict['A']['games'][0], ax=ax[0]);\n",
    "ax[0].set_xlabel('games A-wins')\n",
    "sns.boxplot(x=tennis_va10_df_dict['B']['games'][0], ax=ax[1]);\n",
    "ax[1].set_xlabel('games A-wins');"
   ]
  },
  {
   "cell_type": "code",
   "execution_count": 30,
   "metadata": {},
   "outputs": [
    {
     "data": {
      "text/html": [
       "<div>\n",
       "<style scoped>\n",
       "    .dataframe tbody tr th:only-of-type {\n",
       "        vertical-align: middle;\n",
       "    }\n",
       "\n",
       "    .dataframe tbody tr th {\n",
       "        vertical-align: top;\n",
       "    }\n",
       "\n",
       "    .dataframe thead th {\n",
       "        text-align: right;\n",
       "    }\n",
       "</style>\n",
       "<table border=\"1\" class=\"dataframe\">\n",
       "  <thead>\n",
       "    <tr style=\"text-align: right;\">\n",
       "      <th></th>\n",
       "      <th>scored</th>\n",
       "      <th>games</th>\n",
       "      <th>sets</th>\n",
       "      <th>matches</th>\n",
       "    </tr>\n",
       "  </thead>\n",
       "  <tbody>\n",
       "    <tr>\n",
       "      <th>A</th>\n",
       "      <td>0.499461</td>\n",
       "      <td>0.496015</td>\n",
       "      <td>0.489568</td>\n",
       "      <td>0.4917</td>\n",
       "    </tr>\n",
       "    <tr>\n",
       "      <th>B</th>\n",
       "      <td>0.500539</td>\n",
       "      <td>0.503985</td>\n",
       "      <td>0.510432</td>\n",
       "      <td>0.5083</td>\n",
       "    </tr>\n",
       "  </tbody>\n",
       "</table>\n",
       "</div>"
      ],
      "text/plain": [
       "     scored     games      sets  matches\n",
       "A  0.499461  0.496015  0.489568   0.4917\n",
       "B  0.500539  0.503985  0.510432   0.5083"
      ]
     },
     "execution_count": 30,
     "metadata": {},
     "output_type": "execute_result"
    }
   ],
   "source": [
    "def percentage(data_a: pd.DataFrame, data_b: pd.DataFrame):\n",
    "    data_a = data_a.sum()\n",
    "    data_b = data_b.sum()\n",
    "    return (data_a) / (data_a + data_b)\n",
    "\n",
    "percentages = {}\n",
    "\n",
    "percentages['scored'] = {\n",
    "    'A': percentage(tennis_va10_df_dict['A']['scored'][0], tennis_va10_df_dict['B']['scored'][0]),\n",
    "    'B': percentage(tennis_va10_df_dict['B']['scored'][0], tennis_va10_df_dict['A']['scored'][0])\n",
    "}\n",
    "percentages['games'] = {\n",
    "    'A': percentage(tennis_va10_df_dict['A']['games'][0], tennis_va10_df_dict['B']['games'][0]),\n",
    "    'B': percentage(tennis_va10_df_dict['B']['games'][0], tennis_va10_df_dict['A']['games'][0])\n",
    "}\n",
    "percentages['sets'] = {\n",
    "    'A': percentage(tennis_va10_df_dict['A']['sets'][0], tennis_va10_df_dict['B']['sets'][0]),\n",
    "    'B': percentage(tennis_va10_df_dict['B']['sets'][0], tennis_va10_df_dict['A']['sets'][0])\n",
    "}\n",
    "percentages['matches'] = {\n",
    "    'A': percentage(tennis_va10_df_dict['A']['matches'][0], tennis_va10_df_dict['B']['matches'][0]),\n",
    "    'B': percentage(tennis_va10_df_dict['B']['matches'][0], tennis_va10_df_dict['A']['matches'][0])\n",
    "}\n",
    "\n",
    "percentages_df = pd.DataFrame(percentages)\n",
    "percentages_df"
   ]
  },
  {
   "cell_type": "markdown",
   "metadata": {},
   "source": [
    "## Vários P"
   ]
  },
  {
   "cell_type": "code",
   "execution_count": 41,
   "metadata": {},
   "outputs": [],
   "source": [
    "%%capture\n",
    "def percentage(df: pd.DataFrame, column_a: str, column_b: str):\n",
    "    data_a = df.loc[:, column_a].sum()\n",
    "    data_b = df.loc[:, column_b].sum()\n",
    "    return (data_a) / (data_a + data_b)\n",
    "\n",
    "p_values = pd.DataFrame([])\n",
    "\n",
    "for i in range(0, 1001):\n",
    "    n_sample = 100\n",
    "    p = i * 0.0009 + 0.1\n",
    "    tennis_df = TenisSimulation.generate_dataset(p, n_sample)\n",
    "\n",
    "    percentages = {}\n",
    "    percentages['p'] = p\n",
    "    percentages['games'] = {'A': percentage(tennis_df, 'games A-Wins', 'games B-Wins')}\n",
    "    percentages['sets'] = {'A': percentage(tennis_df, 'sets A-Wins', 'sets B-Wins')}\n",
    "    percentages['matches'] = {'A': tennis_df[tennis_df['Winner'] == 'A'].shape[0] / tennis_df.shape[0]}\n",
    "    percentages['scores'] = {'A': percentage(tennis_df, 'A scored', 'B scored')}\n",
    "\n",
    "    percentages_df = pd.DataFrame(percentages)\n",
    "    p_values = pd.concat([p_values, percentages_df])"
   ]
  },
  {
   "cell_type": "code",
   "execution_count": 43,
   "metadata": {},
   "outputs": [
    {
     "data": {
      "image/png": "[encoded data removed]",
      "text/plain": [
       "<Figure size 864x576 with 1 Axes>"
      ]
     },
     "metadata": {},
     "output_type": "display_data"
    }
   ],
   "source": [
    "fig, ax = plt.subplots(1, 1, figsize=(12, 8))\n",
    "ax.set_title('Probability of winning based on p')\n",
    "sns.lineplot(data=p_values.copy().reset_index(), x='p', y='scores', ax=ax, label='scores');\n",
    "sns.lineplot(data=p_values.copy().reset_index(), x='p', y='matches', ax=ax, label='matches');\n",
    "sns.lineplot(data=p_values.copy().reset_index(), x='p', y='sets', ax=ax, label='sets');\n",
    "sns.lineplot(data=p_values.copy().reset_index(), x='p', y='games', ax=ax, label='games');"
   ]
  }
 ],
 "metadata": {
  "interpreter": {
   "hash": "f05924806ede7ae6076e3fa726bc7bd8543ecf44d8399f9bc44e285f9a56ada2"
  },
  "kernelspec": {
   "display_name": "Python 3.8.10 ('markov')",
   "language": "python",
   "name": "python3"
  },
  "language_info": {
   "codemirror_mode": {
    "name": "ipython",
    "version": 3
   },
   "file_extension": ".py",
   "mimetype": "text/x-python",
   "name": "python",
   "nbconvert_exporter": "python",
   "pygments_lexer": "ipython3",
   "version": "3.8.10"
  },
  "orig_nbformat": 4
 },
 "nbformat": 4,
 "nbformat_minor": 2
}
