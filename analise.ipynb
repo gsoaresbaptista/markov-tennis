{
 "cells": [
  {
   "cell_type": "code",
   "execution_count": 119,
   "metadata": {},
   "outputs": [],
   "source": [
    "import pandas as pd\n",
    "import seaborn as sns\n",
    "import matplotlib.pyplot as plt\n",
    "import numpy as np\n",
    "from src.tennis import TenisSimulation"
   ]
  },
  {
   "cell_type": "markdown",
   "metadata": {},
   "source": [
    "# Aplicação de Cadeias de Markov na Simulação de um Jogo de Tênis\n",
    "\n",
    "O trabalho em questão consistem na simulação de uma partida de tênis utilizando cadeias de Markov para simular o processo estocástico inerente ao jogo.\n",
    "\n",
    "A chance de um jogador sair vitorioso de uma partida de tênis está diretamente relacionado com a sua habilidade no esporte. Portanto, sintetizamos as aptidões e habilidades de um jogador através de uma representação numérica(p) que varia no intervalo [0, 1], sendo 0 uma baixa aptidão e 1 um jogador extremamente habilidoso. Neste ponto, p representa a probabilidade do jogador ganhar o ponto, isto é, se o jogador A possúi uma probabilidade p de marcar o ponto, o jogador B deve possuir um valor de habilidade de q = 1 - p.\n"
   ]
  },
  {
   "cell_type": "markdown",
   "metadata": {},
   "source": [
    "## Representação da cadeia de Markov\n",
    "\n",
    "A representação de um game dentro de um set foi elaborada utilizando a cadeia logo abaixo. Note que, diferente da cadeia proposta originalmente a implementalção apresenta os estados \"30-30\", \"30-40\" e \"40-30\" a mais, buscando-se uma representação mais fiel do game."
   ]
  },
  {
   "cell_type": "markdown",
   "metadata": {},
   "source": [
    "<img src=\"imgs/chain.jpeg\" width=500>\n",
    "<p>\n",
    "Imagem retirada da internet, <a href=\"https://twitter.com/Vestige_du_jour/status/1052322461688061952\">referência</a>.\n",
    "</p>"
   ]
  },
  {
   "cell_type": "markdown",
   "metadata": {},
   "source": [
    "## Partida 1\n",
    "\n",
    "A primeira simulação leva em conta um jogador A muito mais habilidoso do que o adversário B. Isto é, utiliza-se um valor de p relativamente maior do que q. A proposta do trabalho consiste na escolha de p dentro do seguinte intervalo, 0,70 <= p <= 0,80, portanto, escolheu-se um valor intermediário de p = 0.75."
   ]
  },
  {
   "cell_type": "code",
   "execution_count": 120,
   "metadata": {},
   "outputs": [
    {
     "name": "stderr",
     "output_type": "stream",
     "text": [
      "100%|██████████| 10000/10000 [00:02<00:00, 4948.53it/s]\n"
     ]
    }
   ],
   "source": [
    "# Gera os dados da simulação\n",
    "n_sample = 10000\n",
    "probability = 0.75\n",
    "\n",
    "tennis_df = TenisSimulation.generate_dataset(probability, n_sample)\n",
    "tennis_df.to_parquet(f'datasets/{n_sample}_probability_{probability}.parquet.gzip')"
   ]
  },
  {
   "cell_type": "markdown",
   "metadata": {},
   "source": [
    "O dataset gerado consiste em um DataFrame com n_sample simulações. Para cada simulação, salva-se os dados da quantidade de pontos, sets ganhos e games ganhos por cada jogador além da quantidade de deuces e o vencedor da partida. O dataset pode ser visto logo abaixo:"
   ]
  },
  {
   "cell_type": "code",
   "execution_count": 121,
   "metadata": {},
   "outputs": [
    {
     "data": {
      "text/html": [
       "<div>\n",
       "<style scoped>\n",
       "    .dataframe tbody tr th:only-of-type {\n",
       "        vertical-align: middle;\n",
       "    }\n",
       "\n",
       "    .dataframe tbody tr th {\n",
       "        vertical-align: top;\n",
       "    }\n",
       "\n",
       "    .dataframe thead th {\n",
       "        text-align: right;\n",
       "    }\n",
       "</style>\n",
       "<table border=\"1\" class=\"dataframe\">\n",
       "  <thead>\n",
       "    <tr style=\"text-align: right;\">\n",
       "      <th></th>\n",
       "      <th>A scored</th>\n",
       "      <th>B scored</th>\n",
       "      <th>sets A-Wins</th>\n",
       "      <th>sets B-Wins</th>\n",
       "      <th>games A-Wins</th>\n",
       "      <th>games B-Wins</th>\n",
       "      <th>deuce</th>\n",
       "      <th>Winner</th>\n",
       "    </tr>\n",
       "  </thead>\n",
       "  <tbody>\n",
       "    <tr>\n",
       "      <th>0</th>\n",
       "      <td>50</td>\n",
       "      <td>14</td>\n",
       "      <td>2</td>\n",
       "      <td>0</td>\n",
       "      <td>12</td>\n",
       "      <td>0</td>\n",
       "      <td>2</td>\n",
       "      <td>A</td>\n",
       "    </tr>\n",
       "    <tr>\n",
       "      <th>1</th>\n",
       "      <td>51</td>\n",
       "      <td>16</td>\n",
       "      <td>2</td>\n",
       "      <td>0</td>\n",
       "      <td>12</td>\n",
       "      <td>1</td>\n",
       "      <td>1</td>\n",
       "      <td>A</td>\n",
       "    </tr>\n",
       "    <tr>\n",
       "      <th>2</th>\n",
       "      <td>54</td>\n",
       "      <td>27</td>\n",
       "      <td>2</td>\n",
       "      <td>0</td>\n",
       "      <td>12</td>\n",
       "      <td>1</td>\n",
       "      <td>4</td>\n",
       "      <td>A</td>\n",
       "    </tr>\n",
       "    <tr>\n",
       "      <th>3</th>\n",
       "      <td>49</td>\n",
       "      <td>17</td>\n",
       "      <td>2</td>\n",
       "      <td>0</td>\n",
       "      <td>12</td>\n",
       "      <td>0</td>\n",
       "      <td>1</td>\n",
       "      <td>A</td>\n",
       "    </tr>\n",
       "    <tr>\n",
       "      <th>4</th>\n",
       "      <td>53</td>\n",
       "      <td>17</td>\n",
       "      <td>2</td>\n",
       "      <td>0</td>\n",
       "      <td>12</td>\n",
       "      <td>0</td>\n",
       "      <td>5</td>\n",
       "      <td>A</td>\n",
       "    </tr>\n",
       "    <tr>\n",
       "      <th>...</th>\n",
       "      <td>...</td>\n",
       "      <td>...</td>\n",
       "      <td>...</td>\n",
       "      <td>...</td>\n",
       "      <td>...</td>\n",
       "      <td>...</td>\n",
       "      <td>...</td>\n",
       "      <td>...</td>\n",
       "    </tr>\n",
       "    <tr>\n",
       "      <th>9995</th>\n",
       "      <td>48</td>\n",
       "      <td>10</td>\n",
       "      <td>2</td>\n",
       "      <td>0</td>\n",
       "      <td>12</td>\n",
       "      <td>0</td>\n",
       "      <td>0</td>\n",
       "      <td>A</td>\n",
       "    </tr>\n",
       "    <tr>\n",
       "      <th>9996</th>\n",
       "      <td>52</td>\n",
       "      <td>15</td>\n",
       "      <td>2</td>\n",
       "      <td>0</td>\n",
       "      <td>12</td>\n",
       "      <td>0</td>\n",
       "      <td>4</td>\n",
       "      <td>A</td>\n",
       "    </tr>\n",
       "    <tr>\n",
       "      <th>9997</th>\n",
       "      <td>54</td>\n",
       "      <td>21</td>\n",
       "      <td>2</td>\n",
       "      <td>0</td>\n",
       "      <td>12</td>\n",
       "      <td>1</td>\n",
       "      <td>4</td>\n",
       "      <td>A</td>\n",
       "    </tr>\n",
       "    <tr>\n",
       "      <th>9998</th>\n",
       "      <td>53</td>\n",
       "      <td>20</td>\n",
       "      <td>2</td>\n",
       "      <td>0</td>\n",
       "      <td>12</td>\n",
       "      <td>2</td>\n",
       "      <td>1</td>\n",
       "      <td>A</td>\n",
       "    </tr>\n",
       "    <tr>\n",
       "      <th>9999</th>\n",
       "      <td>49</td>\n",
       "      <td>11</td>\n",
       "      <td>2</td>\n",
       "      <td>0</td>\n",
       "      <td>12</td>\n",
       "      <td>0</td>\n",
       "      <td>1</td>\n",
       "      <td>A</td>\n",
       "    </tr>\n",
       "  </tbody>\n",
       "</table>\n",
       "<p>10000 rows × 8 columns</p>\n",
       "</div>"
      ],
      "text/plain": [
       "      A scored  B scored  sets A-Wins  sets B-Wins  games A-Wins  \\\n",
       "0           50        14            2            0            12   \n",
       "1           51        16            2            0            12   \n",
       "2           54        27            2            0            12   \n",
       "3           49        17            2            0            12   \n",
       "4           53        17            2            0            12   \n",
       "...        ...       ...          ...          ...           ...   \n",
       "9995        48        10            2            0            12   \n",
       "9996        52        15            2            0            12   \n",
       "9997        54        21            2            0            12   \n",
       "9998        53        20            2            0            12   \n",
       "9999        49        11            2            0            12   \n",
       "\n",
       "      games B-Wins  deuce Winner  \n",
       "0                0      2      A  \n",
       "1                1      1      A  \n",
       "2                1      4      A  \n",
       "3                0      1      A  \n",
       "4                0      5      A  \n",
       "...            ...    ...    ...  \n",
       "9995             0      0      A  \n",
       "9996             0      4      A  \n",
       "9997             1      4      A  \n",
       "9998             2      1      A  \n",
       "9999             0      1      A  \n",
       "\n",
       "[10000 rows x 8 columns]"
      ]
     },
     "execution_count": 121,
     "metadata": {},
     "output_type": "execute_result"
    }
   ],
   "source": [
    "tennis_df"
   ]
  },
  {
   "cell_type": "markdown",
   "metadata": {},
   "source": [
    "Como a probabilidade p esta diretamente ligada com a chance do jogador A marcar um ponto, é de nosso interesse observar o gráfico de distribuição de probabilidade para os pontos marcados durante os jogos. Portanto, o gráfico abaixo mostra tanto a distribuição de A quanto de B."
   ]
  },
  {
   "cell_type": "code",
   "execution_count": 122,
   "metadata": {},
   "outputs": [
    {
     "data": {
      "image/png": "[encoded data removed]",
      "text/plain": [
       "<Figure size 576x432 with 1 Axes>"
      ]
     },
     "metadata": {},
     "output_type": "display_data"
    }
   ],
   "source": [
    "sns.set_theme()\n",
    "fig, ax = plt.subplots(1, figsize=(8, 6))\n",
    "sns.histplot(data=tennis_df.loc[:, ['A scored', 'B scored']], ax=ax);"
   ]
  },
  {
   "cell_type": "markdown",
   "metadata": {},
   "source": [
    "Nota-se que os pontos marcados por A foram muito mais elavados, como era de se esperar devido ao alto valor de p. É interessante observamos que a distribuição de B se assemelha muito com uma distribuição normal, entretanto, por apresentar uma baixa média de pontos marcados esta deslocada para esquerda em relação à A, logo, podemos imaginar que distribuição de A também se trata de uma normal com um alto valor de curtose."
   ]
  },
  {
   "cell_type": "markdown",
   "metadata": {},
   "source": [
    "Iremos calcular alguns valores estatísticos para critério de comparação e inferência da simulação executada. Portanto, fazemos a análise utilizando 3 jogos como conjunto amostral, isto é, dividimos o dataset em grupos de 3 e para cada grupo inferimos os dados."
   ]
  },
  {
   "cell_type": "code",
   "execution_count": 123,
   "metadata": {},
   "outputs": [],
   "source": [
    "tennis_va3_dict = { \n",
    "    'A': { 'matches' : [], 'scored' : [], 'games' : [], 'sets' : []},\n",
    "    'B': { 'matches' : [], 'scored' : [], 'games' : [], 'sets' : []},\n",
    "}\n",
    "\n",
    "for i in range(0, n_sample//3):\n",
    "    tennis_va3_dict['A']['matches'].append(sum(tennis_df.iloc[i*3:i*3+3, :]['Winner'] == 'A'))\n",
    "    tennis_va3_dict['B']['matches'].append(sum(tennis_df.iloc[i*3:i*3+3, :]['Winner'] == 'B'))\n",
    "\n",
    "    tennis_va3_dict['A']['scored'].append(sum(tennis_df.loc[i*3:i*3+2, 'A scored']))\n",
    "    tennis_va3_dict['B']['scored'].append(sum(tennis_df.loc[i*3:i*3+2, 'B scored']))\n",
    "\n",
    "    tennis_va3_dict['A']['games'].append(sum(tennis_df.loc[i*3:i*3+2, 'games A-Wins']))\n",
    "    tennis_va3_dict['B']['games'].append(sum(tennis_df.loc[i*3:i*3+2, 'games B-Wins']))\n",
    "\n",
    "    tennis_va3_dict['A']['sets'].append(sum(tennis_df.loc[i*3:i*3+2, 'sets A-Wins']))\n",
    "    tennis_va3_dict['B']['sets'].append(sum(tennis_df.loc[i*3:i*3+2, 'sets B-Wins']))"
   ]
  },
  {
   "cell_type": "code",
   "execution_count": 124,
   "metadata": {},
   "outputs": [],
   "source": [
    "tennis_va3_df = {\n",
    "    'A': {\n",
    "        'matches': pd.DataFrame(tennis_va3_dict['A']['matches']),\n",
    "        'scored': pd.DataFrame(tennis_va3_dict['A']['scored']),\n",
    "        'games': pd.DataFrame(tennis_va3_dict['A']['games']),\n",
    "        'sets': pd.DataFrame(tennis_va3_dict['A']['sets'])\n",
    "    },\n",
    "    'B': {\n",
    "        'matches': pd.DataFrame(tennis_va3_dict['B']['matches']),\n",
    "        'scored': pd.DataFrame(tennis_va3_dict['B']['scored']),\n",
    "        'games': pd.DataFrame(tennis_va3_dict['B']['games']),\n",
    "        'sets': pd.DataFrame(tennis_va3_dict['B']['sets'])\n",
    "    }}"
   ]
  },
  {
   "cell_type": "code",
   "execution_count": 125,
   "metadata": {},
   "outputs": [
    {
     "data": {
      "text/html": [
       "<div>\n",
       "<style scoped>\n",
       "    .dataframe tbody tr th:only-of-type {\n",
       "        vertical-align: middle;\n",
       "    }\n",
       "\n",
       "    .dataframe tbody tr th {\n",
       "        vertical-align: top;\n",
       "    }\n",
       "\n",
       "    .dataframe thead th {\n",
       "        text-align: right;\n",
       "    }\n",
       "</style>\n",
       "<table border=\"1\" class=\"dataframe\">\n",
       "  <thead>\n",
       "    <tr style=\"text-align: right;\">\n",
       "      <th></th>\n",
       "      <th>matches_mean</th>\n",
       "      <th>scored_mean</th>\n",
       "      <th>games_mean</th>\n",
       "      <th>sets_mean</th>\n",
       "    </tr>\n",
       "  </thead>\n",
       "  <tbody>\n",
       "    <tr>\n",
       "      <th>A</th>\n",
       "      <td>3.0</td>\n",
       "      <td>155.172517</td>\n",
       "      <td>36.000300</td>\n",
       "      <td>6.0</td>\n",
       "    </tr>\n",
       "    <tr>\n",
       "      <th>B</th>\n",
       "      <td>0.0</td>\n",
       "      <td>51.892889</td>\n",
       "      <td>1.978098</td>\n",
       "      <td>0.0</td>\n",
       "    </tr>\n",
       "  </tbody>\n",
       "</table>\n",
       "</div>"
      ],
      "text/plain": [
       "   matches_mean  scored_mean  games_mean  sets_mean\n",
       "A           3.0   155.172517   36.000300        6.0\n",
       "B           0.0    51.892889    1.978098        0.0"
      ]
     },
     "metadata": {},
     "output_type": "display_data"
    },
    {
     "data": {
      "text/html": [
       "<div>\n",
       "<style scoped>\n",
       "    .dataframe tbody tr th:only-of-type {\n",
       "        vertical-align: middle;\n",
       "    }\n",
       "\n",
       "    .dataframe tbody tr th {\n",
       "        vertical-align: top;\n",
       "    }\n",
       "\n",
       "    .dataframe thead th {\n",
       "        text-align: right;\n",
       "    }\n",
       "</style>\n",
       "<table border=\"1\" class=\"dataframe\">\n",
       "  <thead>\n",
       "    <tr style=\"text-align: right;\">\n",
       "      <th></th>\n",
       "      <th>matches_std</th>\n",
       "      <th>scored_std</th>\n",
       "      <th>games_std</th>\n",
       "      <th>sets_std</th>\n",
       "    </tr>\n",
       "  </thead>\n",
       "  <tbody>\n",
       "    <tr>\n",
       "      <th>A</th>\n",
       "      <td>0.0</td>\n",
       "      <td>5.058784</td>\n",
       "      <td>0.017319</td>\n",
       "      <td>0.0</td>\n",
       "    </tr>\n",
       "    <tr>\n",
       "      <th>B</th>\n",
       "      <td>0.0</td>\n",
       "      <td>9.749530</td>\n",
       "      <td>1.424087</td>\n",
       "      <td>0.0</td>\n",
       "    </tr>\n",
       "  </tbody>\n",
       "</table>\n",
       "</div>"
      ],
      "text/plain": [
       "   matches_std  scored_std  games_std  sets_std\n",
       "A          0.0    5.058784   0.017319       0.0\n",
       "B          0.0    9.749530   1.424087       0.0"
      ]
     },
     "metadata": {},
     "output_type": "display_data"
    }
   ],
   "source": [
    "# Média\n",
    "tennis_va3_mean = {\n",
    "    'A': [np.mean(i) for i in tennis_va3_dict['A'].values()],\n",
    "    'B': [np.mean(i) for i in tennis_va3_dict['B'].values()]\n",
    "}\n",
    "\n",
    "tennis_va3_mean = pd.DataFrame(tennis_va3_mean).transpose()\n",
    "tennis_va3_mean.columns = ['matches_mean', 'scored_mean', 'games_mean', 'sets_mean']\n",
    "display(tennis_va3_mean)\n",
    "\n",
    "# Desvio padrão\n",
    "tennis_va3_std = {\n",
    "    'A': [np.std(i) for i in tennis_va3_dict['A'].values()],\n",
    "    'B': [np.std(i) for i in tennis_va3_dict['B'].values()]\n",
    "}\n",
    "\n",
    "tennis_va3_std = pd.DataFrame(tennis_va3_std).transpose()\n",
    "tennis_va3_std.columns = ['matches_std', 'scored_std', 'games_std', 'sets_std']\n",
    "display(tennis_va3_std)"
   ]
  },
  {
   "cell_type": "markdown",
   "metadata": {},
   "source": [
    "Observa-se que o jogador A ganhou em média as 3 partidas do grupo, como era esperado devido ao alto valor de p, consequentemente, A marcou em média muito mais pontos o que levou a mais games ganhos do que B.\n",
    "\n",
    "Os desvios padrões nos mostram que os valores foram bem consistentes, existiram games em que saiu B vitorioso, entretanto, como foram outliers dentro do conjunto de dados nem mesmo afetaram o resultado final da média."
   ]
  },
  {
   "cell_type": "markdown",
   "metadata": {},
   "source": [
    "A média acumulada consiste no cálculo da média expandindo o grupo, logo, é uma medida interessante para analisar a convergência da média em relação ao tamanho da amostra utilizada."
   ]
  },
  {
   "cell_type": "code",
   "execution_count": 126,
   "metadata": {},
   "outputs": [
    {
     "data": {
      "image/png": "[encoded data removed]",
      "text/plain": [
       "<Figure size 1080x360 with 2 Axes>"
      ]
     },
     "metadata": {},
     "output_type": "display_data"
    }
   ],
   "source": [
    "# Gráfico da média acumulada\n",
    "fig, ax = plt.subplots(1, 2, figsize=(15, 5))\n",
    "ax[0].set_title('A winner cumulative mean')\n",
    "sns.lineplot(data=tennis_va3_df_dict['A']['matches'].expanding().mean().iloc[:, 0], ax=ax[0]);\n",
    "\n",
    "ax[1].set_title('B winner cumulative mean')\n",
    "sns.lineplot(data=tennis_va3_df_dict['B']['matches'].expanding().mean().iloc[:, 0], ax=ax[1], color='#9C7ABA');"
   ]
  },
  {
   "cell_type": "markdown",
   "metadata": {},
   "source": [
    "Vemos que a média acumulada permaneceu constante durante todo período o que sinifica que os dados são muito estáveis e possuem baixa variação, mesmo aumentando o conjunto de dados os valores de média para os jogos ganhos não se alteram."
   ]
  },
  {
   "cell_type": "markdown",
   "metadata": {},
   "source": [
    "Uma forma de analisar a dispersão dos dados é através do boxplot, sendo um gráfico capaz de sintetizar um grande conjunto de informações quanto a distribuição dos dados. Portanto, geramos o boxplot para alguns dados interessantes."
   ]
  },
  {
   "cell_type": "code",
   "execution_count": 152,
   "metadata": {},
   "outputs": [
    {
     "data": {
      "image/png": "[encoded data removed]",
      "text/plain": [
       "<Figure size 1080x360 with 2 Axes>"
      ]
     },
     "metadata": {},
     "output_type": "display_data"
    },
    {
     "data": {
      "image/png": "[encoded data removed]",
      "text/plain": [
       "<Figure size 1080x360 with 2 Axes>"
      ]
     },
     "metadata": {},
     "output_type": "display_data"
    }
   ],
   "source": [
    "fig, ax = plt.subplots(1, 2, figsize=(15, 5))\n",
    "sns.boxplot(x=tennis_va3_df_dict['A']['scored'][0], ax=ax[0]);\n",
    "ax[0].set_xlabel('A scored')\n",
    "sns.boxplot(x=tennis_va3_df_dict['B']['scored'][0], ax=ax[1]);\n",
    "ax[1].set_xlabel('B scored')\n",
    "\n",
    "fig, ax = plt.subplots(1, 2, figsize=(15, 5))\n",
    "sns.boxplot(x=tennis_va3_df_dict['A']['games'][0], ax=ax[0]);\n",
    "ax[0].set_xlabel('games A-wins')\n",
    "sns.boxplot(x=tennis_va3_df_dict['B']['games'][0], ax=ax[1]);\n",
    "ax[1].set_xlabel('games B-wins');"
   ]
  },
  {
   "cell_type": "markdown",
   "metadata": {},
   "source": [
    "Observamos que a quantidade de pontos marcados por A e B apresentam sim um valor de dispersão, ainda que baixo, essa afirmação se dá pelo fato do quartil inferior ser próximo do quartil superior, isto é, ambos gráficos possuem uma baixa amplitude interquartílica.\n",
    "\n",
    "Enquanto para os games, vemos que A ganhou consistentemente, como era de se esperar pelos dados supracitados. Nota-se também que B realmente ganhou alguns poucos games."
   ]
  },
  {
   "cell_type": "code",
   "execution_count": 128,
   "metadata": {},
   "outputs": [
    {
     "data": {
      "text/html": [
       "<div>\n",
       "<style scoped>\n",
       "    .dataframe tbody tr th:only-of-type {\n",
       "        vertical-align: middle;\n",
       "    }\n",
       "\n",
       "    .dataframe tbody tr th {\n",
       "        vertical-align: top;\n",
       "    }\n",
       "\n",
       "    .dataframe thead th {\n",
       "        text-align: right;\n",
       "    }\n",
       "</style>\n",
       "<table border=\"1\" class=\"dataframe\">\n",
       "  <thead>\n",
       "    <tr style=\"text-align: right;\">\n",
       "      <th></th>\n",
       "      <th>scored</th>\n",
       "      <th>games</th>\n",
       "      <th>sets</th>\n",
       "      <th>matches</th>\n",
       "    </tr>\n",
       "  </thead>\n",
       "  <tbody>\n",
       "    <tr>\n",
       "      <th>A</th>\n",
       "      <td>0.500409</td>\n",
       "      <td>0.501002</td>\n",
       "      <td>0.50054</td>\n",
       "      <td>0.50155</td>\n",
       "    </tr>\n",
       "    <tr>\n",
       "      <th>B</th>\n",
       "      <td>0.499591</td>\n",
       "      <td>0.498998</td>\n",
       "      <td>0.49946</td>\n",
       "      <td>0.49845</td>\n",
       "    </tr>\n",
       "  </tbody>\n",
       "</table>\n",
       "</div>"
      ],
      "text/plain": [
       "     scored     games     sets  matches\n",
       "A  0.500409  0.501002  0.50054  0.50155\n",
       "B  0.499591  0.498998  0.49946  0.49845"
      ]
     },
     "execution_count": 128,
     "metadata": {},
     "output_type": "execute_result"
    }
   ],
   "source": [
    "def percentage(data_a: pd.DataFrame, data_b: pd.DataFrame):\n",
    "    data_a = data_a.sum()\n",
    "    data_b = data_b.sum()\n",
    "    return (data_a) / (data_a + data_b)\n",
    "\n",
    "percentages = {}\n",
    "\n",
    "percentages['scored'] = {\n",
    "    'A': percentage(tennis_va3_df_dict['A']['scored'][0], tennis_va3_df_dict['B']['scored'][0]),\n",
    "    'B': percentage(tennis_va3_df_dict['B']['scored'][0], tennis_va3_df_dict['A']['scored'][0])\n",
    "}\n",
    "percentages['games'] = {\n",
    "    'A': percentage(tennis_va3_df_dict['A']['games'][0], tennis_va3_df_dict['B']['games'][0]),\n",
    "    'B': percentage(tennis_va3_df_dict['B']['games'][0], tennis_va3_df_dict['A']['games'][0])\n",
    "}\n",
    "percentages['sets'] = {\n",
    "    'A': percentage(tennis_va3_df_dict['A']['sets'][0], tennis_va3_df_dict['B']['sets'][0]),\n",
    "    'B': percentage(tennis_va3_df_dict['B']['sets'][0], tennis_va3_df_dict['A']['sets'][0])\n",
    "}\n",
    "percentages['matches'] = {\n",
    "    'A': percentage(tennis_va3_df_dict['A']['matches'][0], tennis_va3_df_dict['B']['matches'][0]),\n",
    "    'B': percentage(tennis_va3_df_dict['B']['matches'][0], tennis_va3_df_dict['A']['matches'][0])\n",
    "}\n",
    "\n",
    "percentages_df = pd.DataFrame(percentages)\n",
    "percentages_df"
   ]
  },
  {
   "cell_type": "markdown",
   "metadata": {},
   "source": [
    "Sintetizamos os resultados pela porcentagem de cada jogador dentre as etapas de uma partida de tênis. Observamos que A possúi uma larga vantagem em B, represetando que a simulação foi consistente em todas as etapas."
   ]
  },
  {
   "cell_type": "markdown",
   "metadata": {},
   "source": [
    "### VA com espaço amostral de 10 partidas"
   ]
  },
  {
   "cell_type": "markdown",
   "metadata": {},
   "source": [
    "Os testes anteriores foram refeitos considerando uma variável aleatória com um espaço amostral de 10 partidas. Portanto, sorteamos tantos conjuntos de 10 partidas quanto possível, utilizando dados aleatórios com distribuição uniforme no sorteamento."
   ]
  },
  {
   "cell_type": "code",
   "execution_count": 129,
   "metadata": {},
   "outputs": [],
   "source": [
    "tennis_va10_dict = { \n",
    "    'A': { 'matches' : [], 'scored' : [], 'games' : [], 'sets' : []},\n",
    "    'B': { 'matches' : [], 'scored' : [], 'games' : [], 'sets' : []},\n",
    "}\n",
    "\n",
    "samples = np.random.randint(0, n_sample//10, (n_sample//10, 10))\n",
    "\n",
    "for i in range(0, n_sample//10):\n",
    "    tennis_va10_dict['A']['matches'].append(sum(tennis_df.iloc[samples[i], :]['Winner'] == 'A'))\n",
    "    tennis_va10_dict['B']['matches'].append(sum(tennis_df.iloc[samples[i], :]['Winner'] == 'B'))\n",
    "\n",
    "    tennis_va10_dict['A']['scored'].append(sum(tennis_df.loc[samples[i], 'A scored']))\n",
    "    tennis_va10_dict['B']['scored'].append(sum(tennis_df.loc[samples[i], 'B scored']))\n",
    "\n",
    "    tennis_va10_dict['A']['games'].append(sum(tennis_df.loc[samples[i], 'games A-Wins']))\n",
    "    tennis_va10_dict['B']['games'].append(sum(tennis_df.loc[samples[i], 'games B-Wins']))\n",
    "\n",
    "    tennis_va10_dict['A']['sets'].append(sum(tennis_df.loc[samples[i], 'sets A-Wins']))\n",
    "    tennis_va10_dict['B']['sets'].append(sum(tennis_df.loc[samples[i], 'sets B-Wins']))"
   ]
  },
  {
   "cell_type": "code",
   "execution_count": 130,
   "metadata": {},
   "outputs": [],
   "source": [
    "tennis_va10_df_dict = {\n",
    "    'A': {\n",
    "        'matches': pd.DataFrame(tennis_va10_dict['A']['matches']),\n",
    "        'scored': pd.DataFrame(tennis_va10_dict['A']['scored']),\n",
    "        'games': pd.DataFrame(tennis_va10_dict['A']['games']),\n",
    "        'sets': pd.DataFrame(tennis_va10_dict['A']['sets'])\n",
    "    },\n",
    "    'B': {\n",
    "        'matches': pd.DataFrame(tennis_va10_dict['B']['matches']),\n",
    "        'scored': pd.DataFrame(tennis_va10_dict['B']['scored']),\n",
    "        'games': pd.DataFrame(tennis_va10_dict['B']['games']),\n",
    "        'sets': pd.DataFrame(tennis_va10_dict['B']['sets'])\n",
    "    }}"
   ]
  },
  {
   "cell_type": "code",
   "execution_count": 131,
   "metadata": {},
   "outputs": [
    {
     "data": {
      "text/html": [
       "<div>\n",
       "<style scoped>\n",
       "    .dataframe tbody tr th:only-of-type {\n",
       "        vertical-align: middle;\n",
       "    }\n",
       "\n",
       "    .dataframe tbody tr th {\n",
       "        vertical-align: top;\n",
       "    }\n",
       "\n",
       "    .dataframe thead th {\n",
       "        text-align: right;\n",
       "    }\n",
       "</style>\n",
       "<table border=\"1\" class=\"dataframe\">\n",
       "  <thead>\n",
       "    <tr style=\"text-align: right;\">\n",
       "      <th></th>\n",
       "      <th>matches_mean</th>\n",
       "      <th>scored_mean</th>\n",
       "      <th>games_mean</th>\n",
       "      <th>sets_mean</th>\n",
       "    </tr>\n",
       "  </thead>\n",
       "  <tbody>\n",
       "    <tr>\n",
       "      <th>A</th>\n",
       "      <td>10.0</td>\n",
       "      <td>516.931</td>\n",
       "      <td>120.000</td>\n",
       "      <td>20.0</td>\n",
       "    </tr>\n",
       "    <tr>\n",
       "      <th>B</th>\n",
       "      <td>0.0</td>\n",
       "      <td>172.723</td>\n",
       "      <td>6.526</td>\n",
       "      <td>0.0</td>\n",
       "    </tr>\n",
       "  </tbody>\n",
       "</table>\n",
       "</div>"
      ],
      "text/plain": [
       "   matches_mean  scored_mean  games_mean  sets_mean\n",
       "A          10.0      516.931     120.000       20.0\n",
       "B           0.0      172.723       6.526        0.0"
      ]
     },
     "metadata": {},
     "output_type": "display_data"
    },
    {
     "data": {
      "text/html": [
       "<div>\n",
       "<style scoped>\n",
       "    .dataframe tbody tr th:only-of-type {\n",
       "        vertical-align: middle;\n",
       "    }\n",
       "\n",
       "    .dataframe tbody tr th {\n",
       "        vertical-align: top;\n",
       "    }\n",
       "\n",
       "    .dataframe thead th {\n",
       "        text-align: right;\n",
       "    }\n",
       "</style>\n",
       "<table border=\"1\" class=\"dataframe\">\n",
       "  <thead>\n",
       "    <tr style=\"text-align: right;\">\n",
       "      <th></th>\n",
       "      <th>matches_std</th>\n",
       "      <th>scored_std</th>\n",
       "      <th>games_std</th>\n",
       "      <th>sets_std</th>\n",
       "    </tr>\n",
       "  </thead>\n",
       "  <tbody>\n",
       "    <tr>\n",
       "      <th>A</th>\n",
       "      <td>0.0</td>\n",
       "      <td>9.430283</td>\n",
       "      <td>0.000000</td>\n",
       "      <td>0.0</td>\n",
       "    </tr>\n",
       "    <tr>\n",
       "      <th>B</th>\n",
       "      <td>0.0</td>\n",
       "      <td>18.278465</td>\n",
       "      <td>2.704316</td>\n",
       "      <td>0.0</td>\n",
       "    </tr>\n",
       "  </tbody>\n",
       "</table>\n",
       "</div>"
      ],
      "text/plain": [
       "   matches_std  scored_std  games_std  sets_std\n",
       "A          0.0    9.430283   0.000000       0.0\n",
       "B          0.0   18.278465   2.704316       0.0"
      ]
     },
     "metadata": {},
     "output_type": "display_data"
    }
   ],
   "source": [
    "# Média\n",
    "tennis_va10_mean = {\n",
    "    'A': [np.mean(i) for i in tennis_va10_dict['A'].values()],\n",
    "    'B': [np.mean(i) for i in tennis_va10_dict['B'].values()]\n",
    "}\n",
    "\n",
    "tennis_va10_mean = pd.DataFrame(tennis_va10_mean).transpose()\n",
    "tennis_va10_mean.columns = ['matches_mean', 'scored_mean', 'games_mean', 'sets_mean']\n",
    "display(tennis_va10_mean)\n",
    "\n",
    "# Desvio padrão\n",
    "tennis_va10_std = {\n",
    "    'A': [np.std(i) for i in tennis_va10_dict['A'].values()],\n",
    "    'B': [np.std(i) for i in tennis_va10_dict['B'].values()]\n",
    "}\n",
    "\n",
    "tennis_va10_std = pd.DataFrame(tennis_va10_std).transpose()\n",
    "tennis_va10_std.columns = ['matches_std', 'scored_std', 'games_std', 'sets_std']\n",
    "display(tennis_va10_std)"
   ]
  },
  {
   "cell_type": "markdown",
   "metadata": {},
   "source": [
    "Da média e do desvio padrão, vemos que o número de matches foi constante, isto é, A continuou ganhando consistemente de B. Embora a quantidade de pontos que B marcou durante as partidas foi ligeiramente maior, devemos nos atentar que estão sendo utilizados 10 jogos como critério de análise, portanto, a quantidade é factível e esperada pela análise de conjunto com espaço amostral de 3 partidas."
   ]
  },
  {
   "cell_type": "code",
   "execution_count": 132,
   "metadata": {},
   "outputs": [
    {
     "data": {
      "image/png": "[encoded data removed]",
      "text/plain": [
       "<Figure size 1080x360 with 2 Axes>"
      ]
     },
     "metadata": {},
     "output_type": "display_data"
    }
   ],
   "source": [
    "# Gráfico da média acumulada\n",
    "fig, ax = plt.subplots(1, 2, figsize=(15, 5))\n",
    "ax[0].set_title('A winner cumulative mean')\n",
    "sns.lineplot(data=tennis_va10_df_dict['A']['matches'].expanding().mean().iloc[:, 0], ax=ax[0]);\n",
    "\n",
    "ax[1].set_title('B winner cumulative mean')\n",
    "sns.lineplot(data=tennis_va10_df_dict['B']['matches'].expanding().mean().iloc[:, 0], ax=ax[1], color='#9C7ABA');"
   ]
  },
  {
   "cell_type": "markdown",
   "metadata": {},
   "source": [
    "Vemos que a média acumulada permaneceu a mesma, uma vez que a média e desvio padrão não sofreram nenhuma alteração notável."
   ]
  },
  {
   "cell_type": "code",
   "execution_count": 151,
   "metadata": {},
   "outputs": [
    {
     "data": {
      "image/png": "[encoded data removed]",
      "text/plain": [
       "<Figure size 1080x360 with 2 Axes>"
      ]
     },
     "metadata": {},
     "output_type": "display_data"
    },
    {
     "data": {
      "image/png": "[encoded data removed]",
      "text/plain": [
       "<Figure size 1080x360 with 2 Axes>"
      ]
     },
     "metadata": {},
     "output_type": "display_data"
    }
   ],
   "source": [
    "fig, ax = plt.subplots(1, 2, figsize=(15, 5))\n",
    "sns.boxplot(x=tennis_va10_df_dict['A']['scored'][0], ax=ax[0]);\n",
    "ax[0].set_xlabel('A scored')\n",
    "sns.boxplot(x=tennis_va10_df_dict['B']['scored'][0], ax=ax[1]);\n",
    "ax[1].set_xlabel('B scored')\n",
    "\n",
    "fig, ax = plt.subplots(1, 2, figsize=(15, 5))\n",
    "sns.boxplot(x=tennis_va10_df_dict['A']['games'][0], ax=ax[0]);\n",
    "ax[0].set_xlabel('games A-wins')\n",
    "sns.boxplot(x=tennis_va10_df_dict['B']['games'][0], ax=ax[1]);\n",
    "ax[1].set_xlabel('games B-wins');"
   ]
  },
  {
   "cell_type": "markdown",
   "metadata": {},
   "source": [
    "Do boxplot é interessante notarmos que devido a uma quantidade maior de partidas o número de outliers diminuiu, isto é, obtemos resultados muito mais consistentes ao considerar um espaço amostral de tamanho 10."
   ]
  },
  {
   "cell_type": "code",
   "execution_count": 134,
   "metadata": {},
   "outputs": [
    {
     "data": {
      "text/html": [
       "<div>\n",
       "<style scoped>\n",
       "    .dataframe tbody tr th:only-of-type {\n",
       "        vertical-align: middle;\n",
       "    }\n",
       "\n",
       "    .dataframe tbody tr th {\n",
       "        vertical-align: top;\n",
       "    }\n",
       "\n",
       "    .dataframe thead th {\n",
       "        text-align: right;\n",
       "    }\n",
       "</style>\n",
       "<table border=\"1\" class=\"dataframe\">\n",
       "  <thead>\n",
       "    <tr style=\"text-align: right;\">\n",
       "      <th></th>\n",
       "      <th>scored</th>\n",
       "      <th>games</th>\n",
       "      <th>sets</th>\n",
       "      <th>matches</th>\n",
       "    </tr>\n",
       "  </thead>\n",
       "  <tbody>\n",
       "    <tr>\n",
       "      <th>A</th>\n",
       "      <td>0.749551</td>\n",
       "      <td>0.948422</td>\n",
       "      <td>1.0</td>\n",
       "      <td>1.0</td>\n",
       "    </tr>\n",
       "    <tr>\n",
       "      <th>B</th>\n",
       "      <td>0.250449</td>\n",
       "      <td>0.051578</td>\n",
       "      <td>0.0</td>\n",
       "      <td>0.0</td>\n",
       "    </tr>\n",
       "  </tbody>\n",
       "</table>\n",
       "</div>"
      ],
      "text/plain": [
       "     scored     games  sets  matches\n",
       "A  0.749551  0.948422   1.0      1.0\n",
       "B  0.250449  0.051578   0.0      0.0"
      ]
     },
     "execution_count": 134,
     "metadata": {},
     "output_type": "execute_result"
    }
   ],
   "source": [
    "def percentage(data_a: pd.DataFrame, data_b: pd.DataFrame):\n",
    "    data_a = data_a.sum()\n",
    "    data_b = data_b.sum()\n",
    "    return (data_a) / (data_a + data_b)\n",
    "\n",
    "percentages = {}\n",
    "\n",
    "percentages['scored'] = {\n",
    "    'A': percentage(tennis_va10_df_dict['A']['scored'][0], tennis_va10_df_dict['B']['scored'][0]),\n",
    "    'B': percentage(tennis_va10_df_dict['B']['scored'][0], tennis_va10_df_dict['A']['scored'][0])\n",
    "}\n",
    "percentages['games'] = {\n",
    "    'A': percentage(tennis_va10_df_dict['A']['games'][0], tennis_va10_df_dict['B']['games'][0]),\n",
    "    'B': percentage(tennis_va10_df_dict['B']['games'][0], tennis_va10_df_dict['A']['games'][0])\n",
    "}\n",
    "percentages['sets'] = {\n",
    "    'A': percentage(tennis_va10_df_dict['A']['sets'][0], tennis_va10_df_dict['B']['sets'][0]),\n",
    "    'B': percentage(tennis_va10_df_dict['B']['sets'][0], tennis_va10_df_dict['A']['sets'][0])\n",
    "}\n",
    "percentages['matches'] = {\n",
    "    'A': percentage(tennis_va10_df_dict['A']['matches'][0], tennis_va10_df_dict['B']['matches'][0]),\n",
    "    'B': percentage(tennis_va10_df_dict['B']['matches'][0], tennis_va10_df_dict['A']['matches'][0])\n",
    "}\n",
    "\n",
    "percentages_df = pd.DataFrame(percentages)\n",
    "percentages_df"
   ]
  },
  {
   "cell_type": "markdown",
   "metadata": {},
   "source": [
    "As porcentagens não tiveram alterações notáveis."
   ]
  },
  {
   "cell_type": "markdown",
   "metadata": {},
   "source": [
    "## Partida 2"
   ]
  },
  {
   "cell_type": "markdown",
   "metadata": {},
   "source": [
    "A segunda simulação leva em jogadores com níveis técnicos semelhantes. Isto é, utiliza-se um valor de p próximo de q. A segunda partida consiste na escolha de p dentro do seguinte intervalo, 0,45 <= p <= 0,55, portanto, escolheu-se um valor intermediário de p = 0.50."
   ]
  },
  {
   "cell_type": "code",
   "execution_count": 135,
   "metadata": {},
   "outputs": [
    {
     "name": "stderr",
     "output_type": "stream",
     "text": [
      "100%|██████████| 10000/10000 [00:04<00:00, 2443.73it/s]\n"
     ]
    }
   ],
   "source": [
    "n_sample = 10000\n",
    "probability = 0.50\n",
    "\n",
    "tennis_df = TenisSimulation.generate_dataset(probability, n_sample)\n",
    "tennis_df.to_parquet(f'datasets/{n_sample}_probability_{probability}.parquet.gzip')"
   ]
  },
  {
   "cell_type": "code",
   "execution_count": 136,
   "metadata": {},
   "outputs": [
    {
     "data": {
      "image/png": "[encoded data removed]",
      "text/plain": [
       "<Figure size 576x432 with 1 Axes>"
      ]
     },
     "metadata": {},
     "output_type": "display_data"
    }
   ],
   "source": [
    "sns.set_theme()\n",
    "fig, ax = plt.subplots(1, figsize=(8, 6))\n",
    "sns.histplot(data=tennis_df.loc[:, ['A scored', 'B scored']], ax=ax);"
   ]
  },
  {
   "cell_type": "markdown",
   "metadata": {},
   "source": [
    "Vemos que a distribuição de probabilidade da quantidade de pontuação marcada foi extremamente semelhante, mostrando que o um valor de 0.5 para p nos fornece jogadores e, portanto, resultados próximos. É interessante observamos uma semelhança com a distribuição normal, como destacado na partida 1."
   ]
  },
  {
   "cell_type": "code",
   "execution_count": 137,
   "metadata": {},
   "outputs": [],
   "source": [
    "tennis_va3_dict = { \n",
    "    'A': { 'matches' : [], 'scored' : [], 'games' : [], 'sets' : []},\n",
    "    'B': { 'matches' : [], 'scored' : [], 'games' : [], 'sets' : []},\n",
    "}\n",
    "\n",
    "for i in range(0, n_sample//3):\n",
    "    tennis_va3_dict['A']['matches'].append(sum(tennis_df.iloc[i*3:i*3+3, :]['Winner'] == 'A'))\n",
    "    tennis_va3_dict['B']['matches'].append(sum(tennis_df.iloc[i*3:i*3+3, :]['Winner'] == 'B'))\n",
    "\n",
    "    tennis_va3_dict['A']['scored'].append(sum(tennis_df.loc[i*3:i*3+2, 'A scored']))\n",
    "    tennis_va3_dict['B']['scored'].append(sum(tennis_df.loc[i*3:i*3+2, 'B scored']))\n",
    "\n",
    "    tennis_va3_dict['A']['games'].append(sum(tennis_df.loc[i*3:i*3+2, 'games A-Wins']))\n",
    "    tennis_va3_dict['B']['games'].append(sum(tennis_df.loc[i*3:i*3+2, 'games B-Wins']))\n",
    "\n",
    "    tennis_va3_dict['A']['sets'].append(sum(tennis_df.loc[i*3:i*3+2, 'sets A-Wins']))\n",
    "    tennis_va3_dict['B']['sets'].append(sum(tennis_df.loc[i*3:i*3+2, 'sets B-Wins']))"
   ]
  },
  {
   "cell_type": "code",
   "execution_count": 138,
   "metadata": {},
   "outputs": [],
   "source": [
    "tennis_va3_df_dict = {\n",
    "    'A': {\n",
    "        'matches': pd.DataFrame(tennis_va3_dict['A']['matches']),\n",
    "        'scored': pd.DataFrame(tennis_va3_dict['A']['scored']),\n",
    "        'games': pd.DataFrame(tennis_va3_dict['A']['games']),\n",
    "        'sets': pd.DataFrame(tennis_va3_dict['A']['sets'])\n",
    "    },\n",
    "    'B': {\n",
    "        'matches': pd.DataFrame(tennis_va3_dict['B']['matches']),\n",
    "        'scored': pd.DataFrame(tennis_va3_dict['B']['scored']),\n",
    "        'games': pd.DataFrame(tennis_va3_dict['B']['games']),\n",
    "        'sets': pd.DataFrame(tennis_va3_dict['B']['sets'])\n",
    "    }}"
   ]
  },
  {
   "cell_type": "code",
   "execution_count": 139,
   "metadata": {},
   "outputs": [
    {
     "data": {
      "text/html": [
       "<div>\n",
       "<style scoped>\n",
       "    .dataframe tbody tr th:only-of-type {\n",
       "        vertical-align: middle;\n",
       "    }\n",
       "\n",
       "    .dataframe tbody tr th {\n",
       "        vertical-align: top;\n",
       "    }\n",
       "\n",
       "    .dataframe thead th {\n",
       "        text-align: right;\n",
       "    }\n",
       "</style>\n",
       "<table border=\"1\" class=\"dataframe\">\n",
       "  <thead>\n",
       "    <tr style=\"text-align: right;\">\n",
       "      <th></th>\n",
       "      <th>matches_mean</th>\n",
       "      <th>scored_mean</th>\n",
       "      <th>games_mean</th>\n",
       "      <th>sets_mean</th>\n",
       "    </tr>\n",
       "  </thead>\n",
       "  <tbody>\n",
       "    <tr>\n",
       "      <th>A</th>\n",
       "      <td>1.509151</td>\n",
       "      <td>243.577558</td>\n",
       "      <td>36.164716</td>\n",
       "      <td>3.759976</td>\n",
       "    </tr>\n",
       "    <tr>\n",
       "      <th>B</th>\n",
       "      <td>1.490849</td>\n",
       "      <td>243.159916</td>\n",
       "      <td>36.000300</td>\n",
       "      <td>3.723372</td>\n",
       "    </tr>\n",
       "  </tbody>\n",
       "</table>\n",
       "</div>"
      ],
      "text/plain": [
       "   matches_mean  scored_mean  games_mean  sets_mean\n",
       "A      1.509151   243.577558   36.164716   3.759976\n",
       "B      1.490849   243.159916   36.000300   3.723372"
      ]
     },
     "metadata": {},
     "output_type": "display_data"
    },
    {
     "data": {
      "text/html": [
       "<div>\n",
       "<style scoped>\n",
       "    .dataframe tbody tr th:only-of-type {\n",
       "        vertical-align: middle;\n",
       "    }\n",
       "\n",
       "    .dataframe tbody tr th {\n",
       "        vertical-align: top;\n",
       "    }\n",
       "\n",
       "    .dataframe thead th {\n",
       "        text-align: right;\n",
       "    }\n",
       "</style>\n",
       "<table border=\"1\" class=\"dataframe\">\n",
       "  <thead>\n",
       "    <tr style=\"text-align: right;\">\n",
       "      <th></th>\n",
       "      <th>matches_std</th>\n",
       "      <th>scored_std</th>\n",
       "      <th>games_std</th>\n",
       "      <th>sets_std</th>\n",
       "    </tr>\n",
       "  </thead>\n",
       "  <tbody>\n",
       "    <tr>\n",
       "      <th>A</th>\n",
       "      <td>0.867275</td>\n",
       "      <td>37.790115</td>\n",
       "      <td>6.574519</td>\n",
       "      <td>1.438819</td>\n",
       "    </tr>\n",
       "    <tr>\n",
       "      <th>B</th>\n",
       "      <td>0.867275</td>\n",
       "      <td>37.541487</td>\n",
       "      <td>6.552724</td>\n",
       "      <td>1.437251</td>\n",
       "    </tr>\n",
       "  </tbody>\n",
       "</table>\n",
       "</div>"
      ],
      "text/plain": [
       "   matches_std  scored_std  games_std  sets_std\n",
       "A     0.867275   37.790115   6.574519  1.438819\n",
       "B     0.867275   37.541487   6.552724  1.437251"
      ]
     },
     "metadata": {},
     "output_type": "display_data"
    }
   ],
   "source": [
    "# Média\n",
    "tennis_va3_mean = {\n",
    "    'A': [np.mean(i) for i in tennis_va3_dict['A'].values()],\n",
    "    'B': [np.mean(i) for i in tennis_va3_dict['B'].values()]\n",
    "}\n",
    "\n",
    "tennis_va3_mean = pd.DataFrame(tennis_va3_mean).transpose()\n",
    "tennis_va3_mean.columns = ['matches_mean', 'scored_mean', 'games_mean', 'sets_mean']\n",
    "display(tennis_va3_mean)\n",
    "\n",
    "# Desvio padrão\n",
    "tennis_va3_std = {\n",
    "    'A': [np.std(i) for i in tennis_va3_dict['A'].values()],\n",
    "    'B': [np.std(i) for i in tennis_va3_dict['B'].values()]\n",
    "}\n",
    "\n",
    "tennis_va3_std = pd.DataFrame(tennis_va3_std).transpose()\n",
    "tennis_va3_std.columns = ['matches_std', 'scored_std', 'games_std', 'sets_std']\n",
    "display(tennis_va3_std)"
   ]
  },
  {
   "cell_type": "markdown",
   "metadata": {},
   "source": [
    "Pela curva de distribuição normal, podiamos esperar os resultados acima, uma vez que ambas curvas foram extremamente semelhantes, as médias e desvios padrões também deveriam ser."
   ]
  },
  {
   "cell_type": "code",
   "execution_count": 140,
   "metadata": {},
   "outputs": [
    {
     "data": {
      "image/png": "[encoded data removed]",
      "text/plain": [
       "<Figure size 1080x360 with 2 Axes>"
      ]
     },
     "metadata": {},
     "output_type": "display_data"
    }
   ],
   "source": [
    "# Gráfico da média acumulada\n",
    "fig, ax = plt.subplots(1, 2, figsize=(15, 5))\n",
    "ax[0].set_title('A winner cumulative mean')\n",
    "sns.lineplot(data=tennis_va3_df_dict['A']['matches'].expanding().mean().iloc[:, 0], ax=ax[0]);\n",
    "\n",
    "ax[1].set_title('B winner cumulative mean')\n",
    "sns.lineplot(data=tennis_va3_df_dict['B']['matches'].expanding().mean().iloc[:, 0], ax=ax[1], color='#9C7ABA');"
   ]
  },
  {
   "cell_type": "markdown",
   "metadata": {},
   "source": [
    "Com valores medianos de p, obtemos curvas interessantes para a média acumulada. Nota-se que ao adicionarmos elementos no cálculo a média converge muito melhor, neste caso, tendendo para 1.5."
   ]
  },
  {
   "cell_type": "code",
   "execution_count": 141,
   "metadata": {},
   "outputs": [
    {
     "data": {
      "image/png": "[encoded data removed]",
      "text/plain": [
       "<Figure size 1080x360 with 2 Axes>"
      ]
     },
     "metadata": {},
     "output_type": "display_data"
    },
    {
     "data": {
      "image/png": "[encoded data removed]",
      "text/plain": [
       "<Figure size 1080x360 with 2 Axes>"
      ]
     },
     "metadata": {},
     "output_type": "display_data"
    }
   ],
   "source": [
    "fig, ax = plt.subplots(1, 2, figsize=(15, 5))\n",
    "sns.boxplot(x=tennis_va3_df_dict['A']['scored'][0], ax=ax[0]);\n",
    "ax[0].set_xlabel('A scored')\n",
    "sns.boxplot(x=tennis_va3_df_dict['B']['scored'][0], ax=ax[1]);\n",
    "ax[1].set_xlabel('B scored')\n",
    "\n",
    "fig, ax = plt.subplots(1, 2, figsize=(15, 5))\n",
    "sns.boxplot(x=tennis_va3_df_dict['A']['games'][0], ax=ax[0]);\n",
    "ax[0].set_xlabel('games A-wins')\n",
    "sns.boxplot(x=tennis_va3_df_dict['B']['games'][0], ax=ax[1]);\n",
    "ax[1].set_xlabel('games A-wins');"
   ]
  },
  {
   "cell_type": "markdown",
   "metadata": {},
   "source": [
    "Observa-se nos boxplots que os resultados foram muito simétricos, uma vez que os dados são fortemente influenciados pelas medidades de dispersão e tendência central e o valor de p impacta diretamente na difença de habilidade dos jogadores."
   ]
  },
  {
   "cell_type": "code",
   "execution_count": 142,
   "metadata": {},
   "outputs": [
    {
     "data": {
      "text/html": [
       "<div>\n",
       "<style scoped>\n",
       "    .dataframe tbody tr th:only-of-type {\n",
       "        vertical-align: middle;\n",
       "    }\n",
       "\n",
       "    .dataframe tbody tr th {\n",
       "        vertical-align: top;\n",
       "    }\n",
       "\n",
       "    .dataframe thead th {\n",
       "        text-align: right;\n",
       "    }\n",
       "</style>\n",
       "<table border=\"1\" class=\"dataframe\">\n",
       "  <thead>\n",
       "    <tr style=\"text-align: right;\">\n",
       "      <th></th>\n",
       "      <th>scored</th>\n",
       "      <th>games</th>\n",
       "      <th>sets</th>\n",
       "      <th>matches</th>\n",
       "    </tr>\n",
       "  </thead>\n",
       "  <tbody>\n",
       "    <tr>\n",
       "      <th>A</th>\n",
       "      <td>0.500429</td>\n",
       "      <td>0.501139</td>\n",
       "      <td>0.502446</td>\n",
       "      <td>0.50305</td>\n",
       "    </tr>\n",
       "    <tr>\n",
       "      <th>B</th>\n",
       "      <td>0.499571</td>\n",
       "      <td>0.498861</td>\n",
       "      <td>0.497554</td>\n",
       "      <td>0.49695</td>\n",
       "    </tr>\n",
       "  </tbody>\n",
       "</table>\n",
       "</div>"
      ],
      "text/plain": [
       "     scored     games      sets  matches\n",
       "A  0.500429  0.501139  0.502446  0.50305\n",
       "B  0.499571  0.498861  0.497554  0.49695"
      ]
     },
     "execution_count": 142,
     "metadata": {},
     "output_type": "execute_result"
    }
   ],
   "source": [
    "def percentage(data_a: pd.DataFrame, data_b: pd.DataFrame):\n",
    "    data_a = data_a.sum()\n",
    "    data_b = data_b.sum()\n",
    "    return (data_a) / (data_a + data_b)\n",
    "\n",
    "percentages = {}\n",
    "\n",
    "percentages['scored'] = {\n",
    "    'A': percentage(tennis_va3_df_dict['A']['scored'][0], tennis_va3_df_dict['B']['scored'][0]),\n",
    "    'B': percentage(tennis_va3_df_dict['B']['scored'][0], tennis_va3_df_dict['A']['scored'][0])\n",
    "}\n",
    "percentages['games'] = {\n",
    "    'A': percentage(tennis_va3_df_dict['A']['games'][0], tennis_va3_df_dict['B']['games'][0]),\n",
    "    'B': percentage(tennis_va3_df_dict['B']['games'][0], tennis_va3_df_dict['A']['games'][0])\n",
    "}\n",
    "percentages['sets'] = {\n",
    "    'A': percentage(tennis_va3_df_dict['A']['sets'][0], tennis_va3_df_dict['B']['sets'][0]),\n",
    "    'B': percentage(tennis_va3_df_dict['B']['sets'][0], tennis_va3_df_dict['A']['sets'][0])\n",
    "}\n",
    "percentages['matches'] = {\n",
    "    'A': percentage(tennis_va3_df_dict['A']['matches'][0], tennis_va3_df_dict['B']['matches'][0]),\n",
    "    'B': percentage(tennis_va3_df_dict['B']['matches'][0], tennis_va3_df_dict['A']['matches'][0])\n",
    "}\n",
    "\n",
    "percentages_df = pd.DataFrame(percentages)\n",
    "percentages_df"
   ]
  },
  {
   "cell_type": "markdown",
   "metadata": {},
   "source": [
    "As porcentagens foram extremamente próximas, onde todas tendem à 50% como deveria ser esperado."
   ]
  },
  {
   "cell_type": "markdown",
   "metadata": {},
   "source": [
    "### VA com espaço amostral de 10 partidas"
   ]
  },
  {
   "cell_type": "markdown",
   "metadata": {},
   "source": [
    "Assim como na análise da partida 1, devemos repetir os passos na análise da variável aleatória considerando um espaço amostral de 10 partidas."
   ]
  },
  {
   "cell_type": "code",
   "execution_count": 143,
   "metadata": {},
   "outputs": [],
   "source": [
    "tennis_va10_dict = { \n",
    "    'A': { 'matches' : [], 'scored' : [], 'games' : [], 'sets' : []},\n",
    "    'B': { 'matches' : [], 'scored' : [], 'games' : [], 'sets' : []},\n",
    "}\n",
    "\n",
    "samples = np.random.randint(0, n_sample//10, (n_sample//10, 10))\n",
    "\n",
    "for i in range(0, n_sample//10):\n",
    "    tennis_va10_dict['A']['matches'].append(sum(tennis_df.iloc[samples[i], :]['Winner'] == 'A'))\n",
    "    tennis_va10_dict['B']['matches'].append(sum(tennis_df.iloc[samples[i], :]['Winner'] == 'B'))\n",
    "\n",
    "    tennis_va10_dict['A']['scored'].append(sum(tennis_df.loc[samples[i], 'A scored']))\n",
    "    tennis_va10_dict['B']['scored'].append(sum(tennis_df.loc[samples[i], 'B scored']))\n",
    "\n",
    "    tennis_va10_dict['A']['games'].append(sum(tennis_df.loc[samples[i], 'games A-Wins']))\n",
    "    tennis_va10_dict['B']['games'].append(sum(tennis_df.loc[samples[i], 'games B-Wins']))\n",
    "\n",
    "    tennis_va10_dict['A']['sets'].append(sum(tennis_df.loc[samples[i], 'sets A-Wins']))\n",
    "    tennis_va10_dict['B']['sets'].append(sum(tennis_df.loc[samples[i], 'sets B-Wins']))"
   ]
  },
  {
   "cell_type": "code",
   "execution_count": 144,
   "metadata": {},
   "outputs": [],
   "source": [
    "tennis_va10_df_dict = {\n",
    "    'A': {\n",
    "        'matches': pd.DataFrame(tennis_va10_dict['A']['matches']),\n",
    "        'scored': pd.DataFrame(tennis_va10_dict['A']['scored']),\n",
    "        'games': pd.DataFrame(tennis_va10_dict['A']['games']),\n",
    "        'sets': pd.DataFrame(tennis_va10_dict['A']['sets'])\n",
    "    },\n",
    "    'B': {\n",
    "        'matches': pd.DataFrame(tennis_va10_dict['B']['matches']),\n",
    "        'scored': pd.DataFrame(tennis_va10_dict['B']['scored']),\n",
    "        'games': pd.DataFrame(tennis_va10_dict['B']['games']),\n",
    "        'sets': pd.DataFrame(tennis_va10_dict['B']['sets'])\n",
    "    }}"
   ]
  },
  {
   "cell_type": "code",
   "execution_count": 145,
   "metadata": {},
   "outputs": [
    {
     "data": {
      "text/html": [
       "<div>\n",
       "<style scoped>\n",
       "    .dataframe tbody tr th:only-of-type {\n",
       "        vertical-align: middle;\n",
       "    }\n",
       "\n",
       "    .dataframe tbody tr th {\n",
       "        vertical-align: top;\n",
       "    }\n",
       "\n",
       "    .dataframe thead th {\n",
       "        text-align: right;\n",
       "    }\n",
       "</style>\n",
       "<table border=\"1\" class=\"dataframe\">\n",
       "  <thead>\n",
       "    <tr style=\"text-align: right;\">\n",
       "      <th></th>\n",
       "      <th>matches_mean</th>\n",
       "      <th>scored_mean</th>\n",
       "      <th>games_mean</th>\n",
       "      <th>sets_mean</th>\n",
       "    </tr>\n",
       "  </thead>\n",
       "  <tbody>\n",
       "    <tr>\n",
       "      <th>A</th>\n",
       "      <td>5.086</td>\n",
       "      <td>813.332</td>\n",
       "      <td>120.919</td>\n",
       "      <td>12.471</td>\n",
       "    </tr>\n",
       "    <tr>\n",
       "      <th>B</th>\n",
       "      <td>4.914</td>\n",
       "      <td>811.880</td>\n",
       "      <td>120.034</td>\n",
       "      <td>12.423</td>\n",
       "    </tr>\n",
       "  </tbody>\n",
       "</table>\n",
       "</div>"
      ],
      "text/plain": [
       "   matches_mean  scored_mean  games_mean  sets_mean\n",
       "A         5.086      813.332     120.919     12.471\n",
       "B         4.914      811.880     120.034     12.423"
      ]
     },
     "metadata": {},
     "output_type": "display_data"
    },
    {
     "data": {
      "text/html": [
       "<div>\n",
       "<style scoped>\n",
       "    .dataframe tbody tr th:only-of-type {\n",
       "        vertical-align: middle;\n",
       "    }\n",
       "\n",
       "    .dataframe tbody tr th {\n",
       "        vertical-align: top;\n",
       "    }\n",
       "\n",
       "    .dataframe thead th {\n",
       "        text-align: right;\n",
       "    }\n",
       "</style>\n",
       "<table border=\"1\" class=\"dataframe\">\n",
       "  <thead>\n",
       "    <tr style=\"text-align: right;\">\n",
       "      <th></th>\n",
       "      <th>matches_std</th>\n",
       "      <th>scored_std</th>\n",
       "      <th>games_std</th>\n",
       "      <th>sets_std</th>\n",
       "    </tr>\n",
       "  </thead>\n",
       "  <tbody>\n",
       "    <tr>\n",
       "      <th>A</th>\n",
       "      <td>1.611398</td>\n",
       "      <td>70.437488</td>\n",
       "      <td>12.404452</td>\n",
       "      <td>2.697250</td>\n",
       "    </tr>\n",
       "    <tr>\n",
       "      <th>B</th>\n",
       "      <td>1.611398</td>\n",
       "      <td>70.093620</td>\n",
       "      <td>12.174270</td>\n",
       "      <td>2.645009</td>\n",
       "    </tr>\n",
       "  </tbody>\n",
       "</table>\n",
       "</div>"
      ],
      "text/plain": [
       "   matches_std  scored_std  games_std  sets_std\n",
       "A     1.611398   70.437488  12.404452  2.697250\n",
       "B     1.611398   70.093620  12.174270  2.645009"
      ]
     },
     "metadata": {},
     "output_type": "display_data"
    }
   ],
   "source": [
    "# Média\n",
    "tennis_va10_mean = {\n",
    "    'A': [np.mean(i) for i in tennis_va10_dict['A'].values()],\n",
    "    'B': [np.mean(i) for i in tennis_va10_dict['B'].values()]\n",
    "}\n",
    "\n",
    "tennis_va10_mean = pd.DataFrame(tennis_va10_mean).transpose()\n",
    "tennis_va10_mean.columns = ['matches_mean', 'scored_mean', 'games_mean', 'sets_mean']\n",
    "display(tennis_va10_mean)\n",
    "\n",
    "# Desvio padrão\n",
    "tennis_va10_std = {\n",
    "    'A': [np.std(i) for i in tennis_va10_dict['A'].values()],\n",
    "    'B': [np.std(i) for i in tennis_va10_dict['B'].values()]\n",
    "}\n",
    "\n",
    "tennis_va10_std = pd.DataFrame(tennis_va10_std).transpose()\n",
    "tennis_va10_std.columns = ['matches_std', 'scored_std', 'games_std', 'sets_std']\n",
    "display(tennis_va10_std)"
   ]
  },
  {
   "cell_type": "markdown",
   "metadata": {},
   "source": [
    "As médias e desvios padrões, novamente mostram resultados sólidas e também a igualdade do nível técnico dos jogadores."
   ]
  },
  {
   "cell_type": "code",
   "execution_count": 146,
   "metadata": {},
   "outputs": [
    {
     "data": {
      "image/png": "[encoded data removed]",
      "text/plain": [
       "<Figure size 1080x360 with 2 Axes>"
      ]
     },
     "metadata": {},
     "output_type": "display_data"
    }
   ],
   "source": [
    "# Gráfico da média acumulada\n",
    "fig, ax = plt.subplots(1, 2, figsize=(15, 5))\n",
    "ax[0].set_title('A winner cumulative mean')\n",
    "sns.lineplot(data=tennis_va10_df_dict['A']['matches'].expanding().mean().iloc[:, 0], ax=ax[0]);\n",
    "\n",
    "ax[1].set_title('B winner cumulative mean')\n",
    "sns.lineplot(data=tennis_va10_df_dict['B']['matches'].expanding().mean().iloc[:, 0], ax=ax[1], color='#9C7ABA');"
   ]
  },
  {
   "cell_type": "markdown",
   "metadata": {},
   "source": [
    "Novamente, vemos que média acumulada converge com para mais dados, tendendo à 5, uma vez que pelo valor de p em 10 partidas a tendência é de que cada jogador vença 50%."
   ]
  },
  {
   "cell_type": "code",
   "execution_count": 147,
   "metadata": {},
   "outputs": [
    {
     "data": {
      "image/png": "[encoded data removed]",
      "text/plain": [
       "<Figure size 1080x360 with 2 Axes>"
      ]
     },
     "metadata": {},
     "output_type": "display_data"
    },
    {
     "data": {
      "image/png": "[encoded data removed]",
      "text/plain": [
       "<Figure size 1080x360 with 2 Axes>"
      ]
     },
     "metadata": {},
     "output_type": "display_data"
    }
   ],
   "source": [
    "fig, ax = plt.subplots(1, 2, figsize=(15, 5))\n",
    "sns.boxplot(x=tennis_va10_df_dict['A']['scored'][0], ax=ax[0]);\n",
    "ax[0].set_xlabel('A scored')\n",
    "sns.boxplot(x=tennis_va10_df_dict['B']['scored'][0], ax=ax[1]);\n",
    "ax[1].set_xlabel('B scored')\n",
    "\n",
    "fig, ax = plt.subplots(1, 2, figsize=(15, 5))\n",
    "sns.boxplot(x=tennis_va10_df_dict['A']['games'][0], ax=ax[0]);\n",
    "ax[0].set_xlabel('games A-wins')\n",
    "sns.boxplot(x=tennis_va10_df_dict['B']['games'][0], ax=ax[1]);\n",
    "ax[1].set_xlabel('games A-wins');"
   ]
  },
  {
   "cell_type": "code",
   "execution_count": 148,
   "metadata": {},
   "outputs": [
    {
     "data": {
      "text/html": [
       "<div>\n",
       "<style scoped>\n",
       "    .dataframe tbody tr th:only-of-type {\n",
       "        vertical-align: middle;\n",
       "    }\n",
       "\n",
       "    .dataframe tbody tr th {\n",
       "        vertical-align: top;\n",
       "    }\n",
       "\n",
       "    .dataframe thead th {\n",
       "        text-align: right;\n",
       "    }\n",
       "</style>\n",
       "<table border=\"1\" class=\"dataframe\">\n",
       "  <thead>\n",
       "    <tr style=\"text-align: right;\">\n",
       "      <th></th>\n",
       "      <th>scored</th>\n",
       "      <th>games</th>\n",
       "      <th>sets</th>\n",
       "      <th>matches</th>\n",
       "    </tr>\n",
       "  </thead>\n",
       "  <tbody>\n",
       "    <tr>\n",
       "      <th>A</th>\n",
       "      <td>0.500447</td>\n",
       "      <td>0.501836</td>\n",
       "      <td>0.500964</td>\n",
       "      <td>0.5086</td>\n",
       "    </tr>\n",
       "    <tr>\n",
       "      <th>B</th>\n",
       "      <td>0.499553</td>\n",
       "      <td>0.498164</td>\n",
       "      <td>0.499036</td>\n",
       "      <td>0.4914</td>\n",
       "    </tr>\n",
       "  </tbody>\n",
       "</table>\n",
       "</div>"
      ],
      "text/plain": [
       "     scored     games      sets  matches\n",
       "A  0.500447  0.501836  0.500964   0.5086\n",
       "B  0.499553  0.498164  0.499036   0.4914"
      ]
     },
     "execution_count": 148,
     "metadata": {},
     "output_type": "execute_result"
    }
   ],
   "source": [
    "def percentage(data_a: pd.DataFrame, data_b: pd.DataFrame):\n",
    "    data_a = data_a.sum()\n",
    "    data_b = data_b.sum()\n",
    "    return (data_a) / (data_a + data_b)\n",
    "\n",
    "percentages = {}\n",
    "\n",
    "percentages['scored'] = {\n",
    "    'A': percentage(tennis_va10_df_dict['A']['scored'][0], tennis_va10_df_dict['B']['scored'][0]),\n",
    "    'B': percentage(tennis_va10_df_dict['B']['scored'][0], tennis_va10_df_dict['A']['scored'][0])\n",
    "}\n",
    "percentages['games'] = {\n",
    "    'A': percentage(tennis_va10_df_dict['A']['games'][0], tennis_va10_df_dict['B']['games'][0]),\n",
    "    'B': percentage(tennis_va10_df_dict['B']['games'][0], tennis_va10_df_dict['A']['games'][0])\n",
    "}\n",
    "percentages['sets'] = {\n",
    "    'A': percentage(tennis_va10_df_dict['A']['sets'][0], tennis_va10_df_dict['B']['sets'][0]),\n",
    "    'B': percentage(tennis_va10_df_dict['B']['sets'][0], tennis_va10_df_dict['A']['sets'][0])\n",
    "}\n",
    "percentages['matches'] = {\n",
    "    'A': percentage(tennis_va10_df_dict['A']['matches'][0], tennis_va10_df_dict['B']['matches'][0]),\n",
    "    'B': percentage(tennis_va10_df_dict['B']['matches'][0], tennis_va10_df_dict['A']['matches'][0])\n",
    "}\n",
    "\n",
    "percentages_df = pd.DataFrame(percentages)\n",
    "percentages_df"
   ]
  },
  {
   "cell_type": "markdown",
   "metadata": {},
   "source": [
    "Tanto o boxplot quanto as porcenagens não tiveram alterações significativas em relação ao espaço amostral de 3 partidas."
   ]
  },
  {
   "cell_type": "markdown",
   "metadata": {},
   "source": [
    "## Vários P"
   ]
  },
  {
   "cell_type": "markdown",
   "metadata": {},
   "source": [
    "Uma análise interessante a ser feita é a influência da probabilidade p na chance de um jogador ganhar os pontos, games, sets e matches."
   ]
  },
  {
   "cell_type": "code",
   "execution_count": 149,
   "metadata": {},
   "outputs": [],
   "source": [
    "%%capture\n",
    "def percentage(df: pd.DataFrame, column_a: str, column_b: str):\n",
    "    data_a = df.loc[:, column_a].sum()\n",
    "    data_b = df.loc[:, column_b].sum()\n",
    "    return (data_a) / (data_a + data_b)\n",
    "\n",
    "p_values = pd.DataFrame([])\n",
    "\n",
    "for i in range(0, 1001):\n",
    "    n_sample = 100\n",
    "    p = i * 0.0009 + 0.1\n",
    "    tennis_df = TenisSimulation.generate_dataset(p, n_sample)\n",
    "\n",
    "    percentages = {}\n",
    "    percentages['p'] = p\n",
    "    percentages['games'] = {'A': percentage(tennis_df, 'games A-Wins', 'games B-Wins')}\n",
    "    percentages['sets'] = {'A': percentage(tennis_df, 'sets A-Wins', 'sets B-Wins')}\n",
    "    percentages['matches'] = {'A': tennis_df[tennis_df['Winner'] == 'A'].shape[0] / tennis_df.shape[0]}\n",
    "    percentages['scores'] = {'A': percentage(tennis_df, 'A scored', 'B scored')}\n",
    "\n",
    "    percentages_df = pd.DataFrame(percentages)\n",
    "    p_values = pd.concat([p_values, percentages_df])"
   ]
  },
  {
   "cell_type": "code",
   "execution_count": 150,
   "metadata": {},
   "outputs": [
    {
     "data": {
      "image/png": "[encoded data removed]",
      "text/plain": [
       "<Figure size 864x576 with 1 Axes>"
      ]
     },
     "metadata": {},
     "output_type": "display_data"
    }
   ],
   "source": [
    "fig, ax = plt.subplots(1, 1, figsize=(12, 8))\n",
    "ax.set_title('Probability of winning based on p')\n",
    "sns.lineplot(data=p_values.copy().reset_index(), x='p', y='scores', ax=ax, label='scores');\n",
    "sns.lineplot(data=p_values.copy().reset_index(), x='p', y='matches', ax=ax, label='matches');\n",
    "sns.lineplot(data=p_values.copy().reset_index(), x='p', y='sets', ax=ax, label='sets');\n",
    "sns.lineplot(data=p_values.copy().reset_index(), x='p', y='games', ax=ax, label='games');"
   ]
  },
  {
   "cell_type": "markdown",
   "metadata": {},
   "source": [
    "Observa-se que o valor p influência linearmente a quantidade de pontos marcados, como é de se esperar devido ao valor representar a chance do jogador A marcar o ponto em cada estado da cadeia.\n",
    "\n",
    "Analisando o gráfico, percebemos a probabilidade de ganhar um ponto vai sendo propagada para os games, sets e posteriormente, os matches. Portanto, quanto maior a influência que um estado sofre pela variável p, isto é, a quantidade de p's necessários para calcular a probabilidade analiticamente, faz com que a curva tenha maior inclinação e mude de estado muito bruscamente de acordo com p.\n",
    "\n",
    "Destaca-se que apesar da tendência das curvas serem claras, existem variações(aparência de gráfico rasbiscado) devido aos pontos terem sido obtidos através de simulações e não por métodos analíticos."
   ]
  }
 ],
 "metadata": {
  "interpreter": {
   "hash": "f05924806ede7ae6076e3fa726bc7bd8543ecf44d8399f9bc44e285f9a56ada2"
  },
  "kernelspec": {
   "display_name": "Python 3.8.10 ('markov')",
   "language": "python",
   "name": "python3"
  },
  "language_info": {
   "codemirror_mode": {
    "name": "ipython",
    "version": 3
   },
   "file_extension": ".py",
   "mimetype": "text/x-python",
   "name": "python",
   "nbconvert_exporter": "python",
   "pygments_lexer": "ipython3",
   "version": "3.8.10"
  },
  "orig_nbformat": 4
 },
 "nbformat": 4,
 "nbformat_minor": 2
}
